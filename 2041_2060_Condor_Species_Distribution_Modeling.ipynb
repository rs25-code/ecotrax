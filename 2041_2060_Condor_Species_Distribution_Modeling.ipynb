{
  "cells": [
    {
      "cell_type": "markdown",
      "metadata": {
        "id": "view-in-github",
        "colab_type": "text"
      },
      "source": [
        "<a href=\"https://colab.research.google.com/github/rs25-code/ecotrax/blob/main/2041_2060_Condor_Species_Distribution_Modeling.ipynb\" target=\"_parent\"><img src=\"https://colab.research.google.com/assets/colab-badge.svg\" alt=\"Open In Colab\"/></a>"
      ]
    },
    {
      "cell_type": "markdown",
      "metadata": {
        "id": "l18M9_r5XmAQ"
      },
      "source": [
        "# Species Distribution Modeling\n",
        "\n",
        "Species Distribution Modeling of the California Condor using Google Earth Engine"
      ]
    },
    {
      "cell_type": "markdown",
      "metadata": {
        "id": "U7i55vr_aKCB"
      },
      "source": [
        "### Initialize GEE API using the project name.\n",
        "\n",
        "Run the following cell to initialize the API. The project must be already created on Google Earth Engine. To do this register for a developer account at https://earthengine.google.com/"
      ]
    },
    {
      "cell_type": "code",
      "execution_count": null,
      "metadata": {
        "id": "XeFsiSp2aDL6",
        "colab": {
          "base_uri": "https://localhost:8080/",
          "height": 17
        },
        "outputId": "865930f9-b35c-49a2-8e78-8dbe2ffbe750"
      },
      "outputs": [
        {
          "output_type": "display_data",
          "data": {
            "text/plain": [
              "<IPython.core.display.HTML object>"
            ],
            "text/html": [
              "\n",
              "            <style>\n",
              "                .geemap-dark {\n",
              "                    --jp-widgets-color: white;\n",
              "                    --jp-widgets-label-color: white;\n",
              "                    --jp-ui-font-color1: white;\n",
              "                    --jp-layout-color2: #454545;\n",
              "                    background-color: #383838;\n",
              "                }\n",
              "\n",
              "                .geemap-dark .jupyter-button {\n",
              "                    --jp-layout-color3: #383838;\n",
              "                }\n",
              "\n",
              "                .geemap-colab {\n",
              "                    background-color: var(--colab-primary-surface-color, white);\n",
              "                }\n",
              "\n",
              "                .geemap-colab .jupyter-button {\n",
              "                    --jp-layout-color3: var(--colab-primary-surface-color, white);\n",
              "                }\n",
              "            </style>\n",
              "            "
            ]
          },
          "metadata": {}
        }
      ],
      "source": [
        "import ee\n",
        "\n",
        "# Initiate the authentication\n",
        "ee.Authenticate()\n",
        "\n",
        "# Initialize the library.\n",
        "ee.Initialize(project='ee-rs25-code')"
      ]
    },
    {
      "cell_type": "code",
      "execution_count": null,
      "metadata": {
        "id": "4jbM03uIrjST"
      },
      "outputs": [],
      "source": [
        "# Import libraries\n",
        "import geemap\n",
        "\n",
        "import geemap.colormaps as cm\n",
        "import pandas as pd, geopandas as gpd\n",
        "import numpy as np, matplotlib.pyplot as plt\n",
        "import os, requests, math, random\n",
        "\n",
        "from ipyleaflet import TileLayer\n",
        "from statsmodels.stats.outliers_influence import variance_inflation_factor"
      ]
    },
    {
      "cell_type": "markdown",
      "metadata": {
        "id": "SRrwa4ROghr9"
      },
      "source": [
        "### Collection and Preprocessing of Species Occurrence Data\n",
        "\n",
        "Historical occurrence data can be obtained through the GBIF API. The [GBIF API](https://techdocs.gbif.org/en/openapi/) is an interface that allows access to the species distribution data provided by GBIF, enabling users to search, filter, and download data, as well as acquire various information related to species.\n",
        "\n",
        "In the code below, the `species_name` variable is assigned the scientific name of the species (e.g., *Gymnogyps californianus* for California Condor), and the `country_code` variable is assigned the country code (e.g., US). The `base_url` variable stores the address of the GBIF API. `params` is a dictionary containing parameters to be used in the API request:\n",
        "\n",
        "* `taxonKey`: Is the official Taxon ID for the species\n",
        "* `limit`: Sets the maximum number of results returned to 10000. However, GBIF API limits us to 300 records per call, so we have to find the total count of records and loop through them 300 at a time."
      ]
    },
    {
      "cell_type": "code",
      "source": [
        "def get_gbif_data(species_key, limit=100000):\n",
        "    base_url = \"https://api.gbif.org/v1/occurrence/search\"\n",
        "    params = {\n",
        "        \"taxonKey\": species_key,  # Use taxonKey for species\n",
        "        \"limit\": 0  # Get the total count\n",
        "    }\n",
        "\n",
        "    response = requests.get(base_url, params=params)\n",
        "    response.raise_for_status()  # Raise an exception for bad status codes\n",
        "    total_records = response.json().get(\"count\", 0)\n",
        "\n",
        "    if total_records == 0:\n",
        "        print(f\"No records found for species key: {species_key}\")\n",
        "        return []\n",
        "\n",
        "    print(f\"Total records for species key {species_key}: {total_records}\")\n",
        "\n",
        "    # 2. Implement Pagination:\n",
        "    all_data = []\n",
        "    offset = 0\n",
        "    while offset < min(total_records, limit): # limiting to max 10000 records\n",
        "        params[\"limit\"] = 300\n",
        "        params[\"offset\"] = offset\n",
        "        params[\"hasCoordinate\"] = \"true\"\n",
        "        params[\"stateProvince\"] = \"California\"\n",
        "\n",
        "        response = requests.get(base_url, params=params)\n",
        "        response.raise_for_status()\n",
        "\n",
        "        data = response.json().get(\"results\", [])\n",
        "        all_data.extend(data)\n",
        "\n",
        "        offset += 300\n",
        "        print(f\"Downloaded {len(all_data)} of {min(total_records, limit)} records...\")\n",
        "\n",
        "    return all_data"
      ],
      "metadata": {
        "id": "5vUOLG981qDm",
        "colab": {
          "base_uri": "https://localhost:8080/",
          "height": 17
        },
        "outputId": "27e47c9e-20b3-4427-cd7e-8dd7406a4508"
      },
      "execution_count": null,
      "outputs": [
        {
          "output_type": "display_data",
          "data": {
            "text/plain": [
              "<IPython.core.display.HTML object>"
            ],
            "text/html": [
              "\n",
              "            <style>\n",
              "                .geemap-dark {\n",
              "                    --jp-widgets-color: white;\n",
              "                    --jp-widgets-label-color: white;\n",
              "                    --jp-ui-font-color1: white;\n",
              "                    --jp-layout-color2: #454545;\n",
              "                    background-color: #383838;\n",
              "                }\n",
              "\n",
              "                .geemap-dark .jupyter-button {\n",
              "                    --jp-layout-color3: #383838;\n",
              "                }\n",
              "\n",
              "                .geemap-colab {\n",
              "                    background-color: var(--colab-primary-surface-color, white);\n",
              "                }\n",
              "\n",
              "                .geemap-colab .jupyter-button {\n",
              "                    --jp-layout-color3: var(--colab-primary-surface-color, white);\n",
              "                }\n",
              "            </style>\n",
              "            "
            ]
          },
          "metadata": {}
        }
      ]
    },
    {
      "cell_type": "code",
      "source": [
        "df = pd.json_normalize(get_gbif_data(2481920)) # Taxon Key for California Condor - Gymnogyps californianus\n",
        "df.head(1)"
      ],
      "metadata": {
        "colab": {
          "base_uri": "https://localhost:8080/",
          "height": 1000
        },
        "id": "OqGpUFke11sf",
        "outputId": "8b1dc9f4-5150-4c7e-9aa4-4d380519c1db"
      },
      "execution_count": null,
      "outputs": [
        {
          "output_type": "display_data",
          "data": {
            "text/plain": [
              "<IPython.core.display.HTML object>"
            ],
            "text/html": [
              "\n",
              "            <style>\n",
              "                .geemap-dark {\n",
              "                    --jp-widgets-color: white;\n",
              "                    --jp-widgets-label-color: white;\n",
              "                    --jp-ui-font-color1: white;\n",
              "                    --jp-layout-color2: #454545;\n",
              "                    background-color: #383838;\n",
              "                }\n",
              "\n",
              "                .geemap-dark .jupyter-button {\n",
              "                    --jp-layout-color3: #383838;\n",
              "                }\n",
              "\n",
              "                .geemap-colab {\n",
              "                    background-color: var(--colab-primary-surface-color, white);\n",
              "                }\n",
              "\n",
              "                .geemap-colab .jupyter-button {\n",
              "                    --jp-layout-color3: var(--colab-primary-surface-color, white);\n",
              "                }\n",
              "            </style>\n",
              "            "
            ]
          },
          "metadata": {}
        },
        {
          "output_type": "stream",
          "name": "stdout",
          "text": [
            "Total records for species key 2481920: 28148\n",
            "Downloaded 300 of 28148 records...\n",
            "Downloaded 600 of 28148 records...\n",
            "Downloaded 900 of 28148 records...\n",
            "Downloaded 1200 of 28148 records...\n",
            "Downloaded 1500 of 28148 records...\n",
            "Downloaded 1800 of 28148 records...\n",
            "Downloaded 2100 of 28148 records...\n",
            "Downloaded 2400 of 28148 records...\n",
            "Downloaded 2700 of 28148 records...\n",
            "Downloaded 3000 of 28148 records...\n",
            "Downloaded 3300 of 28148 records...\n",
            "Downloaded 3600 of 28148 records...\n",
            "Downloaded 3900 of 28148 records...\n",
            "Downloaded 4200 of 28148 records...\n",
            "Downloaded 4500 of 28148 records...\n",
            "Downloaded 4800 of 28148 records...\n",
            "Downloaded 5100 of 28148 records...\n",
            "Downloaded 5400 of 28148 records...\n",
            "Downloaded 5700 of 28148 records...\n",
            "Downloaded 6000 of 28148 records...\n",
            "Downloaded 6300 of 28148 records...\n",
            "Downloaded 6600 of 28148 records...\n",
            "Downloaded 6900 of 28148 records...\n",
            "Downloaded 7200 of 28148 records...\n",
            "Downloaded 7500 of 28148 records...\n",
            "Downloaded 7800 of 28148 records...\n",
            "Downloaded 8100 of 28148 records...\n",
            "Downloaded 8400 of 28148 records...\n",
            "Downloaded 8700 of 28148 records...\n",
            "Downloaded 9000 of 28148 records...\n",
            "Downloaded 9300 of 28148 records...\n",
            "Downloaded 9600 of 28148 records...\n",
            "Downloaded 9900 of 28148 records...\n",
            "Downloaded 10200 of 28148 records...\n",
            "Downloaded 10500 of 28148 records...\n",
            "Downloaded 10800 of 28148 records...\n",
            "Downloaded 11100 of 28148 records...\n",
            "Downloaded 11400 of 28148 records...\n",
            "Downloaded 11700 of 28148 records...\n",
            "Downloaded 12000 of 28148 records...\n",
            "Downloaded 12300 of 28148 records...\n",
            "Downloaded 12600 of 28148 records...\n",
            "Downloaded 12900 of 28148 records...\n",
            "Downloaded 13200 of 28148 records...\n",
            "Downloaded 13500 of 28148 records...\n",
            "Downloaded 13800 of 28148 records...\n",
            "Downloaded 14100 of 28148 records...\n",
            "Downloaded 14400 of 28148 records...\n",
            "Downloaded 14700 of 28148 records...\n",
            "Downloaded 15000 of 28148 records...\n",
            "Downloaded 15135 of 28148 records...\n",
            "Downloaded 15135 of 28148 records...\n",
            "Downloaded 15135 of 28148 records...\n",
            "Downloaded 15135 of 28148 records...\n",
            "Downloaded 15135 of 28148 records...\n",
            "Downloaded 15135 of 28148 records...\n",
            "Downloaded 15135 of 28148 records...\n",
            "Downloaded 15135 of 28148 records...\n",
            "Downloaded 15135 of 28148 records...\n",
            "Downloaded 15135 of 28148 records...\n",
            "Downloaded 15135 of 28148 records...\n",
            "Downloaded 15135 of 28148 records...\n",
            "Downloaded 15135 of 28148 records...\n",
            "Downloaded 15135 of 28148 records...\n",
            "Downloaded 15135 of 28148 records...\n",
            "Downloaded 15135 of 28148 records...\n",
            "Downloaded 15135 of 28148 records...\n",
            "Downloaded 15135 of 28148 records...\n",
            "Downloaded 15135 of 28148 records...\n",
            "Downloaded 15135 of 28148 records...\n",
            "Downloaded 15135 of 28148 records...\n",
            "Downloaded 15135 of 28148 records...\n",
            "Downloaded 15135 of 28148 records...\n",
            "Downloaded 15135 of 28148 records...\n",
            "Downloaded 15135 of 28148 records...\n",
            "Downloaded 15135 of 28148 records...\n",
            "Downloaded 15135 of 28148 records...\n",
            "Downloaded 15135 of 28148 records...\n",
            "Downloaded 15135 of 28148 records...\n",
            "Downloaded 15135 of 28148 records...\n",
            "Downloaded 15135 of 28148 records...\n",
            "Downloaded 15135 of 28148 records...\n",
            "Downloaded 15135 of 28148 records...\n",
            "Downloaded 15135 of 28148 records...\n",
            "Downloaded 15135 of 28148 records...\n",
            "Downloaded 15135 of 28148 records...\n",
            "Downloaded 15135 of 28148 records...\n",
            "Downloaded 15135 of 28148 records...\n",
            "Downloaded 15135 of 28148 records...\n",
            "Downloaded 15135 of 28148 records...\n",
            "Downloaded 15135 of 28148 records...\n",
            "Downloaded 15135 of 28148 records...\n",
            "Downloaded 15135 of 28148 records...\n",
            "Downloaded 15135 of 28148 records...\n"
          ]
        },
        {
          "output_type": "execute_result",
          "data": {
            "text/plain": [
              "          key                            datasetKey  \\\n",
              "0  5007837025  50c9509d-22c7-4a22-a47d-8c48425ef4a7   \n",
              "\n",
              "                       publishingOrgKey                       installationKey  \\\n",
              "0  28eb1a3f-1c15-4a95-931a-4af90ecb574d  997448a8-f762-11e1-a439-00145eb45e9a   \n",
              "\n",
              "                 hostingOrganizationKey publishingCountry     protocol  \\\n",
              "0  28eb1a3f-1c15-4a95-931a-4af90ecb574d                US  DWC_ARCHIVE   \n",
              "\n",
              "                     lastCrawled                     lastParsed  crawlId  ...  \\\n",
              "0  2025-03-04T19:59:57.055+00:00  2025-03-07T15:47:43.663+00:00      521  ...   \n",
              "\n",
              "  taxonRemarks samplingProtocol scientificNameID  eventID  \\\n",
              "0          NaN              NaN              NaN      NaN   \n",
              "\n",
              "   associatedReferences  namePublishedInYear  lithostratigraphicTerms  \\\n",
              "0                   NaN                  NaN                      NaN   \n",
              "\n",
              "   verbatimTaxonRank  lowestBiostratigraphicZone  highestBiostratigraphicZone  \n",
              "0                NaN                         NaN                          NaN  \n",
              "\n",
              "[1 rows x 168 columns]"
            ],
            "text/html": [
              "\n",
              "  <div id=\"df-440ac79d-1a9d-483e-bacf-21270510dcbc\" class=\"colab-df-container\">\n",
              "    <div>\n",
              "<style scoped>\n",
              "    .dataframe tbody tr th:only-of-type {\n",
              "        vertical-align: middle;\n",
              "    }\n",
              "\n",
              "    .dataframe tbody tr th {\n",
              "        vertical-align: top;\n",
              "    }\n",
              "\n",
              "    .dataframe thead th {\n",
              "        text-align: right;\n",
              "    }\n",
              "</style>\n",
              "<table border=\"1\" class=\"dataframe\">\n",
              "  <thead>\n",
              "    <tr style=\"text-align: right;\">\n",
              "      <th></th>\n",
              "      <th>key</th>\n",
              "      <th>datasetKey</th>\n",
              "      <th>publishingOrgKey</th>\n",
              "      <th>installationKey</th>\n",
              "      <th>hostingOrganizationKey</th>\n",
              "      <th>publishingCountry</th>\n",
              "      <th>protocol</th>\n",
              "      <th>lastCrawled</th>\n",
              "      <th>lastParsed</th>\n",
              "      <th>crawlId</th>\n",
              "      <th>...</th>\n",
              "      <th>taxonRemarks</th>\n",
              "      <th>samplingProtocol</th>\n",
              "      <th>scientificNameID</th>\n",
              "      <th>eventID</th>\n",
              "      <th>associatedReferences</th>\n",
              "      <th>namePublishedInYear</th>\n",
              "      <th>lithostratigraphicTerms</th>\n",
              "      <th>verbatimTaxonRank</th>\n",
              "      <th>lowestBiostratigraphicZone</th>\n",
              "      <th>highestBiostratigraphicZone</th>\n",
              "    </tr>\n",
              "  </thead>\n",
              "  <tbody>\n",
              "    <tr>\n",
              "      <th>0</th>\n",
              "      <td>5007837025</td>\n",
              "      <td>50c9509d-22c7-4a22-a47d-8c48425ef4a7</td>\n",
              "      <td>28eb1a3f-1c15-4a95-931a-4af90ecb574d</td>\n",
              "      <td>997448a8-f762-11e1-a439-00145eb45e9a</td>\n",
              "      <td>28eb1a3f-1c15-4a95-931a-4af90ecb574d</td>\n",
              "      <td>US</td>\n",
              "      <td>DWC_ARCHIVE</td>\n",
              "      <td>2025-03-04T19:59:57.055+00:00</td>\n",
              "      <td>2025-03-07T15:47:43.663+00:00</td>\n",
              "      <td>521</td>\n",
              "      <td>...</td>\n",
              "      <td>NaN</td>\n",
              "      <td>NaN</td>\n",
              "      <td>NaN</td>\n",
              "      <td>NaN</td>\n",
              "      <td>NaN</td>\n",
              "      <td>NaN</td>\n",
              "      <td>NaN</td>\n",
              "      <td>NaN</td>\n",
              "      <td>NaN</td>\n",
              "      <td>NaN</td>\n",
              "    </tr>\n",
              "  </tbody>\n",
              "</table>\n",
              "<p>1 rows × 168 columns</p>\n",
              "</div>\n",
              "    <div class=\"colab-df-buttons\">\n",
              "\n",
              "  <div class=\"colab-df-container\">\n",
              "    <button class=\"colab-df-convert\" onclick=\"convertToInteractive('df-440ac79d-1a9d-483e-bacf-21270510dcbc')\"\n",
              "            title=\"Convert this dataframe to an interactive table.\"\n",
              "            style=\"display:none;\">\n",
              "\n",
              "  <svg xmlns=\"http://www.w3.org/2000/svg\" height=\"24px\" viewBox=\"0 -960 960 960\">\n",
              "    <path d=\"M120-120v-720h720v720H120Zm60-500h600v-160H180v160Zm220 220h160v-160H400v160Zm0 220h160v-160H400v160ZM180-400h160v-160H180v160Zm440 0h160v-160H620v160ZM180-180h160v-160H180v160Zm440 0h160v-160H620v160Z\"/>\n",
              "  </svg>\n",
              "    </button>\n",
              "\n",
              "  <style>\n",
              "    .colab-df-container {\n",
              "      display:flex;\n",
              "      gap: 12px;\n",
              "    }\n",
              "\n",
              "    .colab-df-convert {\n",
              "      background-color: #E8F0FE;\n",
              "      border: none;\n",
              "      border-radius: 50%;\n",
              "      cursor: pointer;\n",
              "      display: none;\n",
              "      fill: #1967D2;\n",
              "      height: 32px;\n",
              "      padding: 0 0 0 0;\n",
              "      width: 32px;\n",
              "    }\n",
              "\n",
              "    .colab-df-convert:hover {\n",
              "      background-color: #E2EBFA;\n",
              "      box-shadow: 0px 1px 2px rgba(60, 64, 67, 0.3), 0px 1px 3px 1px rgba(60, 64, 67, 0.15);\n",
              "      fill: #174EA6;\n",
              "    }\n",
              "\n",
              "    .colab-df-buttons div {\n",
              "      margin-bottom: 4px;\n",
              "    }\n",
              "\n",
              "    [theme=dark] .colab-df-convert {\n",
              "      background-color: #3B4455;\n",
              "      fill: #D2E3FC;\n",
              "    }\n",
              "\n",
              "    [theme=dark] .colab-df-convert:hover {\n",
              "      background-color: #434B5C;\n",
              "      box-shadow: 0px 1px 3px 1px rgba(0, 0, 0, 0.15);\n",
              "      filter: drop-shadow(0px 1px 2px rgba(0, 0, 0, 0.3));\n",
              "      fill: #FFFFFF;\n",
              "    }\n",
              "  </style>\n",
              "\n",
              "    <script>\n",
              "      const buttonEl =\n",
              "        document.querySelector('#df-440ac79d-1a9d-483e-bacf-21270510dcbc button.colab-df-convert');\n",
              "      buttonEl.style.display =\n",
              "        google.colab.kernel.accessAllowed ? 'block' : 'none';\n",
              "\n",
              "      async function convertToInteractive(key) {\n",
              "        const element = document.querySelector('#df-440ac79d-1a9d-483e-bacf-21270510dcbc');\n",
              "        const dataTable =\n",
              "          await google.colab.kernel.invokeFunction('convertToInteractive',\n",
              "                                                    [key], {});\n",
              "        if (!dataTable) return;\n",
              "\n",
              "        const docLinkHtml = 'Like what you see? Visit the ' +\n",
              "          '<a target=\"_blank\" href=https://colab.research.google.com/notebooks/data_table.ipynb>data table notebook</a>'\n",
              "          + ' to learn more about interactive tables.';\n",
              "        element.innerHTML = '';\n",
              "        dataTable['output_type'] = 'display_data';\n",
              "        await google.colab.output.renderOutput(dataTable, element);\n",
              "        const docLink = document.createElement('div');\n",
              "        docLink.innerHTML = docLinkHtml;\n",
              "        element.appendChild(docLink);\n",
              "      }\n",
              "    </script>\n",
              "  </div>\n",
              "\n",
              "\n",
              "    </div>\n",
              "  </div>\n"
            ],
            "application/vnd.google.colaboratory.intrinsic+json": {
              "type": "dataframe",
              "variable_name": "df"
            }
          },
          "metadata": {},
          "execution_count": 4
        }
      ]
    },
    {
      "cell_type": "code",
      "source": [
        "# prompt: save/read df to csv\n",
        "\n",
        "# Assuming 'df' is the DataFrame from the previous code cell\n",
        "df.to_csv('condor_data.csv', index=False)\n",
        "# df = pd.read_csv('condor_data.csv')"
      ],
      "metadata": {
        "id": "98WQ69NjCp-V",
        "colab": {
          "base_uri": "https://localhost:8080/",
          "height": 17
        },
        "outputId": "ab80fc96-0ea3-4067-fac4-f9a21346040f"
      },
      "execution_count": null,
      "outputs": [
        {
          "output_type": "display_data",
          "data": {
            "text/plain": [
              "<IPython.core.display.HTML object>"
            ],
            "text/html": [
              "\n",
              "            <style>\n",
              "                .geemap-dark {\n",
              "                    --jp-widgets-color: white;\n",
              "                    --jp-widgets-label-color: white;\n",
              "                    --jp-ui-font-color1: white;\n",
              "                    --jp-layout-color2: #454545;\n",
              "                    background-color: #383838;\n",
              "                }\n",
              "\n",
              "                .geemap-dark .jupyter-button {\n",
              "                    --jp-layout-color3: #383838;\n",
              "                }\n",
              "\n",
              "                .geemap-colab {\n",
              "                    background-color: var(--colab-primary-surface-color, white);\n",
              "                }\n",
              "\n",
              "                .geemap-colab .jupyter-button {\n",
              "                    --jp-layout-color3: var(--colab-primary-surface-color, white);\n",
              "                }\n",
              "            </style>\n",
              "            "
            ]
          },
          "metadata": {}
        }
      ]
    },
    {
      "cell_type": "code",
      "source": [
        "df.shape"
      ],
      "metadata": {
        "colab": {
          "base_uri": "https://localhost:8080/",
          "height": 34
        },
        "id": "AvUCtSFqs-MN",
        "outputId": "2792f249-7ab2-4091-af14-833a23f857f7"
      },
      "execution_count": null,
      "outputs": [
        {
          "output_type": "display_data",
          "data": {
            "text/plain": [
              "<IPython.core.display.HTML object>"
            ],
            "text/html": [
              "\n",
              "            <style>\n",
              "                .geemap-dark {\n",
              "                    --jp-widgets-color: white;\n",
              "                    --jp-widgets-label-color: white;\n",
              "                    --jp-ui-font-color1: white;\n",
              "                    --jp-layout-color2: #454545;\n",
              "                    background-color: #383838;\n",
              "                }\n",
              "\n",
              "                .geemap-dark .jupyter-button {\n",
              "                    --jp-layout-color3: #383838;\n",
              "                }\n",
              "\n",
              "                .geemap-colab {\n",
              "                    background-color: var(--colab-primary-surface-color, white);\n",
              "                }\n",
              "\n",
              "                .geemap-colab .jupyter-button {\n",
              "                    --jp-layout-color3: var(--colab-primary-surface-color, white);\n",
              "                }\n",
              "            </style>\n",
              "            "
            ]
          },
          "metadata": {}
        },
        {
          "output_type": "execute_result",
          "data": {
            "text/plain": [
              "(15112, 168)"
            ]
          },
          "metadata": {},
          "execution_count": 6
        }
      ]
    },
    {
      "cell_type": "code",
      "source": [
        "# Filter df to include only coordinates that are in Southern California\n",
        "\n",
        "# Define the boundaries of Southern California (approximate)\n",
        "south_lat = 32.715736\n",
        "north_lat = 38.335480\n",
        "west_lon = -124.410607\n",
        "east_lon = -114.134458\n",
        "\n",
        "# Filter the DataFrame\n",
        "southern_california_df = df[\n",
        "    (df['decimalLatitude'] >= south_lat) &\n",
        "    (df['decimalLatitude'] <= north_lat) &\n",
        "    (df['decimalLongitude'] >= west_lon) &\n",
        "    (df['decimalLongitude'] <= east_lon)\n",
        "]\n",
        "\n",
        "# Now southern_california_df contains only the points within the specified region\n",
        "southern_california_df.shape"
      ],
      "metadata": {
        "colab": {
          "base_uri": "https://localhost:8080/",
          "height": 34
        },
        "id": "4RBtW7TDJFdD",
        "outputId": "adc11b8a-1c71-414e-e275-6e45f8d110c3"
      },
      "execution_count": null,
      "outputs": [
        {
          "output_type": "display_data",
          "data": {
            "text/plain": [
              "<IPython.core.display.HTML object>"
            ],
            "text/html": [
              "\n",
              "            <style>\n",
              "                .geemap-dark {\n",
              "                    --jp-widgets-color: white;\n",
              "                    --jp-widgets-label-color: white;\n",
              "                    --jp-ui-font-color1: white;\n",
              "                    --jp-layout-color2: #454545;\n",
              "                    background-color: #383838;\n",
              "                }\n",
              "\n",
              "                .geemap-dark .jupyter-button {\n",
              "                    --jp-layout-color3: #383838;\n",
              "                }\n",
              "\n",
              "                .geemap-colab {\n",
              "                    background-color: var(--colab-primary-surface-color, white);\n",
              "                }\n",
              "\n",
              "                .geemap-colab .jupyter-button {\n",
              "                    --jp-layout-color3: var(--colab-primary-surface-color, white);\n",
              "                }\n",
              "            </style>\n",
              "            "
            ]
          },
          "metadata": {}
        },
        {
          "output_type": "execute_result",
          "data": {
            "text/plain": [
              "(14941, 168)"
            ]
          },
          "metadata": {},
          "execution_count": 7
        }
      ]
    },
    {
      "cell_type": "code",
      "source": [
        "southern_california_df['eventDate'] = pd.to_datetime(southern_california_df['eventDate'], errors='coerce')\n",
        "\n",
        "# Filter for dates between 2015 and 2024 (inclusive)\n",
        "filtered_df = southern_california_df[\n",
        "    (southern_california_df['eventDate'].dt.year >= 2000) &\n",
        "    (southern_california_df['eventDate'].dt.year <= 2020)\n",
        "]\n",
        "\n",
        "# Now 'filtered_df' contains only the data within the specified date range\n",
        "filtered_df.shape"
      ],
      "metadata": {
        "colab": {
          "base_uri": "https://localhost:8080/",
          "height": 139
        },
        "id": "L9M-AXH0JqYE",
        "outputId": "604ad6b2-c161-493a-8ad6-57bc5f238b17"
      },
      "execution_count": null,
      "outputs": [
        {
          "output_type": "display_data",
          "data": {
            "text/plain": [
              "<IPython.core.display.HTML object>"
            ],
            "text/html": [
              "\n",
              "            <style>\n",
              "                .geemap-dark {\n",
              "                    --jp-widgets-color: white;\n",
              "                    --jp-widgets-label-color: white;\n",
              "                    --jp-ui-font-color1: white;\n",
              "                    --jp-layout-color2: #454545;\n",
              "                    background-color: #383838;\n",
              "                }\n",
              "\n",
              "                .geemap-dark .jupyter-button {\n",
              "                    --jp-layout-color3: #383838;\n",
              "                }\n",
              "\n",
              "                .geemap-colab {\n",
              "                    background-color: var(--colab-primary-surface-color, white);\n",
              "                }\n",
              "\n",
              "                .geemap-colab .jupyter-button {\n",
              "                    --jp-layout-color3: var(--colab-primary-surface-color, white);\n",
              "                }\n",
              "            </style>\n",
              "            "
            ]
          },
          "metadata": {}
        },
        {
          "output_type": "stream",
          "name": "stderr",
          "text": [
            "<ipython-input-8-ce83de28192f>:5: SettingWithCopyWarning: \n",
            "A value is trying to be set on a copy of a slice from a DataFrame.\n",
            "Try using .loc[row_indexer,col_indexer] = value instead\n",
            "\n",
            "See the caveats in the documentation: https://pandas.pydata.org/pandas-docs/stable/user_guide/indexing.html#returning-a-view-versus-a-copy\n",
            "  southern_california_df['eventDate'] = pd.to_datetime(southern_california_df['eventDate'], errors='coerce')\n"
          ]
        },
        {
          "output_type": "execute_result",
          "data": {
            "text/plain": [
              "(496, 168)"
            ]
          },
          "metadata": {},
          "execution_count": 8
        }
      ]
    },
    {
      "cell_type": "code",
      "execution_count": null,
      "metadata": {
        "id": "qjt0jgJCpALg",
        "colab": {
          "base_uri": "https://localhost:8080/",
          "height": 81
        },
        "outputId": "75407876-d99f-4b52-ce2c-86bbb5253be2"
      },
      "outputs": [
        {
          "output_type": "display_data",
          "data": {
            "text/plain": [
              "<IPython.core.display.HTML object>"
            ],
            "text/html": [
              "\n",
              "            <style>\n",
              "                .geemap-dark {\n",
              "                    --jp-widgets-color: white;\n",
              "                    --jp-widgets-label-color: white;\n",
              "                    --jp-ui-font-color1: white;\n",
              "                    --jp-layout-color2: #454545;\n",
              "                    background-color: #383838;\n",
              "                }\n",
              "\n",
              "                .geemap-dark .jupyter-button {\n",
              "                    --jp-layout-color3: #383838;\n",
              "                }\n",
              "\n",
              "                .geemap-colab {\n",
              "                    background-color: var(--colab-primary-surface-color, white);\n",
              "                }\n",
              "\n",
              "                .geemap-colab .jupyter-button {\n",
              "                    --jp-layout-color3: var(--colab-primary-surface-color, white);\n",
              "                }\n",
              "            </style>\n",
              "            "
            ]
          },
          "metadata": {}
        },
        {
          "output_type": "execute_result",
          "data": {
            "text/plain": [
              "                    species    year  month                     geometry\n",
              "93  Gymnogyps californianus  2024.0    1.0  POINT (-121.07571 36.59109)"
            ],
            "text/html": [
              "\n",
              "  <div id=\"df-c911fd25-1eca-41c1-92bd-8d3ae7eaedbe\" class=\"colab-df-container\">\n",
              "    <div>\n",
              "<style scoped>\n",
              "    .dataframe tbody tr th:only-of-type {\n",
              "        vertical-align: middle;\n",
              "    }\n",
              "\n",
              "    .dataframe tbody tr th {\n",
              "        vertical-align: top;\n",
              "    }\n",
              "\n",
              "    .dataframe thead th {\n",
              "        text-align: right;\n",
              "    }\n",
              "</style>\n",
              "<table border=\"1\" class=\"dataframe\">\n",
              "  <thead>\n",
              "    <tr style=\"text-align: right;\">\n",
              "      <th></th>\n",
              "      <th>species</th>\n",
              "      <th>year</th>\n",
              "      <th>month</th>\n",
              "      <th>geometry</th>\n",
              "    </tr>\n",
              "  </thead>\n",
              "  <tbody>\n",
              "    <tr>\n",
              "      <th>93</th>\n",
              "      <td>Gymnogyps californianus</td>\n",
              "      <td>2024.0</td>\n",
              "      <td>1.0</td>\n",
              "      <td>POINT (-121.07571 36.59109)</td>\n",
              "    </tr>\n",
              "  </tbody>\n",
              "</table>\n",
              "</div>\n",
              "    <div class=\"colab-df-buttons\">\n",
              "\n",
              "  <div class=\"colab-df-container\">\n",
              "    <button class=\"colab-df-convert\" onclick=\"convertToInteractive('df-c911fd25-1eca-41c1-92bd-8d3ae7eaedbe')\"\n",
              "            title=\"Convert this dataframe to an interactive table.\"\n",
              "            style=\"display:none;\">\n",
              "\n",
              "  <svg xmlns=\"http://www.w3.org/2000/svg\" height=\"24px\" viewBox=\"0 -960 960 960\">\n",
              "    <path d=\"M120-120v-720h720v720H120Zm60-500h600v-160H180v160Zm220 220h160v-160H400v160Zm0 220h160v-160H400v160ZM180-400h160v-160H180v160Zm440 0h160v-160H620v160ZM180-180h160v-160H180v160Zm440 0h160v-160H620v160Z\"/>\n",
              "  </svg>\n",
              "    </button>\n",
              "\n",
              "  <style>\n",
              "    .colab-df-container {\n",
              "      display:flex;\n",
              "      gap: 12px;\n",
              "    }\n",
              "\n",
              "    .colab-df-convert {\n",
              "      background-color: #E8F0FE;\n",
              "      border: none;\n",
              "      border-radius: 50%;\n",
              "      cursor: pointer;\n",
              "      display: none;\n",
              "      fill: #1967D2;\n",
              "      height: 32px;\n",
              "      padding: 0 0 0 0;\n",
              "      width: 32px;\n",
              "    }\n",
              "\n",
              "    .colab-df-convert:hover {\n",
              "      background-color: #E2EBFA;\n",
              "      box-shadow: 0px 1px 2px rgba(60, 64, 67, 0.3), 0px 1px 3px 1px rgba(60, 64, 67, 0.15);\n",
              "      fill: #174EA6;\n",
              "    }\n",
              "\n",
              "    .colab-df-buttons div {\n",
              "      margin-bottom: 4px;\n",
              "    }\n",
              "\n",
              "    [theme=dark] .colab-df-convert {\n",
              "      background-color: #3B4455;\n",
              "      fill: #D2E3FC;\n",
              "    }\n",
              "\n",
              "    [theme=dark] .colab-df-convert:hover {\n",
              "      background-color: #434B5C;\n",
              "      box-shadow: 0px 1px 3px 1px rgba(0, 0, 0, 0.15);\n",
              "      filter: drop-shadow(0px 1px 2px rgba(0, 0, 0, 0.3));\n",
              "      fill: #FFFFFF;\n",
              "    }\n",
              "  </style>\n",
              "\n",
              "    <script>\n",
              "      const buttonEl =\n",
              "        document.querySelector('#df-c911fd25-1eca-41c1-92bd-8d3ae7eaedbe button.colab-df-convert');\n",
              "      buttonEl.style.display =\n",
              "        google.colab.kernel.accessAllowed ? 'block' : 'none';\n",
              "\n",
              "      async function convertToInteractive(key) {\n",
              "        const element = document.querySelector('#df-c911fd25-1eca-41c1-92bd-8d3ae7eaedbe');\n",
              "        const dataTable =\n",
              "          await google.colab.kernel.invokeFunction('convertToInteractive',\n",
              "                                                    [key], {});\n",
              "        if (!dataTable) return;\n",
              "\n",
              "        const docLinkHtml = 'Like what you see? Visit the ' +\n",
              "          '<a target=\"_blank\" href=https://colab.research.google.com/notebooks/data_table.ipynb>data table notebook</a>'\n",
              "          + ' to learn more about interactive tables.';\n",
              "        element.innerHTML = '';\n",
              "        dataTable['output_type'] = 'display_data';\n",
              "        await google.colab.output.renderOutput(dataTable, element);\n",
              "        const docLink = document.createElement('div');\n",
              "        docLink.innerHTML = docLinkHtml;\n",
              "        element.appendChild(docLink);\n",
              "      }\n",
              "    </script>\n",
              "  </div>\n",
              "\n",
              "\n",
              "    </div>\n",
              "  </div>\n"
            ],
            "application/vnd.google.colaboratory.intrinsic+json": {
              "type": "dataframe",
              "variable_name": "gdf",
              "summary": "{\n  \"name\": \"gdf\",\n  \"rows\": 496,\n  \"fields\": [\n    {\n      \"column\": \"species\",\n      \"properties\": {\n        \"dtype\": \"category\",\n        \"num_unique_values\": 1,\n        \"samples\": [\n          \"Gymnogyps californianus\"\n        ],\n        \"semantic_type\": \"\",\n        \"description\": \"\"\n      }\n    },\n    {\n      \"column\": \"year\",\n      \"properties\": {\n        \"dtype\": \"number\",\n        \"std\": 2.530955307196291,\n        \"min\": 2015.0,\n        \"max\": 2024.0,\n        \"num_unique_values\": 10,\n        \"samples\": [\n          2016.0\n        ],\n        \"semantic_type\": \"\",\n        \"description\": \"\"\n      }\n    },\n    {\n      \"column\": \"month\",\n      \"properties\": {\n        \"dtype\": \"number\",\n        \"std\": 3.283161022814288,\n        \"min\": 1.0,\n        \"max\": 12.0,\n        \"num_unique_values\": 12,\n        \"samples\": [\n          11.0\n        ],\n        \"semantic_type\": \"\",\n        \"description\": \"\"\n      }\n    },\n    {\n      \"column\": \"geometry\",\n      \"properties\": {\n        \"dtype\": \"geometry\",\n        \"num_unique_values\": 496,\n        \"samples\": [\n          \"POINT (-121.171886 36.532267)\"\n        ],\n        \"semantic_type\": \"\",\n        \"description\": \"\"\n      }\n    }\n  ]\n}"
            }
          },
          "metadata": {},
          "execution_count": 9
        }
      ],
      "source": [
        "# Convert DataFrame to GeoDataFrame\n",
        "gdf = gpd.GeoDataFrame(\n",
        "    filtered_df,\n",
        "    geometry=gpd.points_from_xy(filtered_df.decimalLongitude,\n",
        "                                filtered_df.decimalLatitude),\n",
        "    crs=\"EPSG:4326\"\n",
        ")[[\"species\", \"year\", \"month\", \"geometry\"]]\n",
        "\"\"\"\n",
        "# Convert GeoDataFrame to GeoPackage (requires pycrs module)\n",
        "%pip install -U -q pycrs\n",
        "gdf.to_file(\"pitta_nympha_data.gpkg\", driver=\"GPKG\")\n",
        "gdf = gpd.read_file(\"pitta_nympha_data.gpkg\")\n",
        "\"\"\"\n",
        "gdf.head(1)  # Display the first row of the GeoDataFrame"
      ]
    },
    {
      "cell_type": "code",
      "execution_count": null,
      "metadata": {
        "id": "Iju-dNZErzkJ",
        "colab": {
          "base_uri": "https://localhost:8080/",
          "height": 17
        },
        "outputId": "8609d258-429e-49b9-992b-3c1e16d71464"
      },
      "outputs": [
        {
          "output_type": "display_data",
          "data": {
            "text/plain": [
              "<IPython.core.display.HTML object>"
            ],
            "text/html": [
              "\n",
              "            <style>\n",
              "                .geemap-dark {\n",
              "                    --jp-widgets-color: white;\n",
              "                    --jp-widgets-label-color: white;\n",
              "                    --jp-ui-font-color1: white;\n",
              "                    --jp-layout-color2: #454545;\n",
              "                    background-color: #383838;\n",
              "                }\n",
              "\n",
              "                .geemap-dark .jupyter-button {\n",
              "                    --jp-layout-color3: #383838;\n",
              "                }\n",
              "\n",
              "                .geemap-colab {\n",
              "                    background-color: var(--colab-primary-surface-color, white);\n",
              "                }\n",
              "\n",
              "                .geemap-colab .jupyter-button {\n",
              "                    --jp-layout-color3: var(--colab-primary-surface-color, white);\n",
              "                }\n",
              "            </style>\n",
              "            "
            ]
          },
          "metadata": {}
        }
      ],
      "source": [
        "# Yearly and monthly data distribution heatmap\n",
        "def plot_heatmap(gdf, h_size=12):\n",
        "\n",
        "    statistics = gdf.groupby([\"month\", \"year\"]).size().unstack(fill_value=0)\n",
        "\n",
        "    # Heatmap\n",
        "    plt.figure(figsize=(h_size, h_size))\n",
        "    heatmap = plt.imshow(\n",
        "        statistics.values, cmap=\"YlOrBr\", origin=\"upper\", aspect=\"auto\"\n",
        "    )\n",
        "\n",
        "    # Display values above each pixel\n",
        "    for i in range(len(statistics.index)):\n",
        "        for j in range(len(statistics.columns)):\n",
        "            plt.text(\n",
        "                j, i, statistics.values[i, j], ha=\"center\", va=\"center\", color=\"black\"\n",
        "            )\n",
        "\n",
        "    plt.colorbar(heatmap, label=\"Count\")\n",
        "    plt.title(\"Monthly Species Count by Year\")\n",
        "    plt.xlabel(\"Year\")\n",
        "    plt.ylabel(\"Month\")\n",
        "    plt.xticks(range(len(statistics.columns)), statistics.columns)\n",
        "    plt.yticks(range(len(statistics.index)), statistics.index)\n",
        "    plt.tight_layout()\n",
        "    plt.savefig(\"heatmap_plot.png\")\n",
        "    plt.show()"
      ]
    },
    {
      "cell_type": "code",
      "execution_count": null,
      "metadata": {
        "id": "dlW1nIQZrjx3",
        "colab": {
          "base_uri": "https://localhost:8080/",
          "height": 1000
        },
        "outputId": "11e778ee-b7e0-4f2c-a0c0-6bffa1b132c3"
      },
      "outputs": [
        {
          "output_type": "display_data",
          "data": {
            "text/plain": [
              "<IPython.core.display.HTML object>"
            ],
            "text/html": [
              "\n",
              "            <style>\n",
              "                .geemap-dark {\n",
              "                    --jp-widgets-color: white;\n",
              "                    --jp-widgets-label-color: white;\n",
              "                    --jp-ui-font-color1: white;\n",
              "                    --jp-layout-color2: #454545;\n",
              "                    background-color: #383838;\n",
              "                }\n",
              "\n",
              "                .geemap-dark .jupyter-button {\n",
              "                    --jp-layout-color3: #383838;\n",
              "                }\n",
              "\n",
              "                .geemap-colab {\n",
              "                    background-color: var(--colab-primary-surface-color, white);\n",
              "                }\n",
              "\n",
              "                .geemap-colab .jupyter-button {\n",
              "                    --jp-layout-color3: var(--colab-primary-surface-color, white);\n",
              "                }\n",
              "            </style>\n",
              "            "
            ]
          },
          "metadata": {}
        },
        {
          "output_type": "display_data",
          "data": {
            "text/plain": [
              "<Figure size 1200x1200 with 2 Axes>"
            ],
            "image/png": "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\n"
          },
          "metadata": {}
        }
      ],
      "source": [
        "plot_heatmap(gdf)"
      ]
    },
    {
      "cell_type": "markdown",
      "metadata": {
        "id": "jy0BBd-6sdLz"
      },
      "source": [
        "Now, the filtered GeoDataFrame is converted into a Google Earth Engine object."
      ]
    },
    {
      "cell_type": "code",
      "execution_count": null,
      "metadata": {
        "id": "Fxu0OsBksMKM",
        "colab": {
          "base_uri": "https://localhost:8080/",
          "height": 17
        },
        "outputId": "ff06f061-1c06-447c-826f-29880892363c"
      },
      "outputs": [
        {
          "output_type": "display_data",
          "data": {
            "text/plain": [
              "<IPython.core.display.HTML object>"
            ],
            "text/html": [
              "\n",
              "            <style>\n",
              "                .geemap-dark {\n",
              "                    --jp-widgets-color: white;\n",
              "                    --jp-widgets-label-color: white;\n",
              "                    --jp-ui-font-color1: white;\n",
              "                    --jp-layout-color2: #454545;\n",
              "                    background-color: #383838;\n",
              "                }\n",
              "\n",
              "                .geemap-dark .jupyter-button {\n",
              "                    --jp-layout-color3: #383838;\n",
              "                }\n",
              "\n",
              "                .geemap-colab {\n",
              "                    background-color: var(--colab-primary-surface-color, white);\n",
              "                }\n",
              "\n",
              "                .geemap-colab .jupyter-button {\n",
              "                    --jp-layout-color3: var(--colab-primary-surface-color, white);\n",
              "                }\n",
              "            </style>\n",
              "            "
            ]
          },
          "metadata": {}
        }
      ],
      "source": [
        "# Convert GeoDataFrame to Earth Engine object\n",
        "data_raw = geemap.geopandas_to_ee(gdf)"
      ]
    },
    {
      "cell_type": "markdown",
      "metadata": {
        "id": "55p_GfB6sv3U"
      },
      "source": [
        "Next, we will define the raster pixel size of the SDM results as 1km resolution."
      ]
    },
    {
      "cell_type": "code",
      "execution_count": null,
      "metadata": {
        "id": "FsTbNQ17s1l-",
        "colab": {
          "base_uri": "https://localhost:8080/",
          "height": 17
        },
        "outputId": "2ae78160-070a-417a-efb9-df841f15a6ce"
      },
      "outputs": [
        {
          "output_type": "display_data",
          "data": {
            "text/plain": [
              "<IPython.core.display.HTML object>"
            ],
            "text/html": [
              "\n",
              "            <style>\n",
              "                .geemap-dark {\n",
              "                    --jp-widgets-color: white;\n",
              "                    --jp-widgets-label-color: white;\n",
              "                    --jp-ui-font-color1: white;\n",
              "                    --jp-layout-color2: #454545;\n",
              "                    background-color: #383838;\n",
              "                }\n",
              "\n",
              "                .geemap-dark .jupyter-button {\n",
              "                    --jp-layout-color3: #383838;\n",
              "                }\n",
              "\n",
              "                .geemap-colab {\n",
              "                    background-color: var(--colab-primary-surface-color, white);\n",
              "                }\n",
              "\n",
              "                .geemap-colab .jupyter-button {\n",
              "                    --jp-layout-color3: var(--colab-primary-surface-color, white);\n",
              "                }\n",
              "            </style>\n",
              "            "
            ]
          },
          "metadata": {}
        }
      ],
      "source": [
        "# Spatial resolution setting (meters)\n",
        "grain_size = 1000"
      ]
    },
    {
      "cell_type": "markdown",
      "metadata": {
        "id": "A20gAGUZtN6S"
      },
      "source": [
        "When multiple occurrence points are present within the same 1km resolution raster pixel, there is a high likelihood that they share the same environmental conditions at the same geographic location. Using such data directly in the analysis can introduce bias into the results.\n",
        "\n",
        "In other words, we need to limit the potential impact of geographic sampling bias. To achieve this, we will retain only one location within each 1km pixel and remove all others, allowing the model to more objectively reflect the environmental conditions."
      ]
    },
    {
      "cell_type": "code",
      "execution_count": null,
      "metadata": {
        "id": "dHtyQyMQs82v",
        "colab": {
          "base_uri": "https://localhost:8080/",
          "height": 52
        },
        "outputId": "55cbdff9-abe9-4cd7-bd9d-d900902800be"
      },
      "outputs": [
        {
          "output_type": "display_data",
          "data": {
            "text/plain": [
              "<IPython.core.display.HTML object>"
            ],
            "text/html": [
              "\n",
              "            <style>\n",
              "                .geemap-dark {\n",
              "                    --jp-widgets-color: white;\n",
              "                    --jp-widgets-label-color: white;\n",
              "                    --jp-ui-font-color1: white;\n",
              "                    --jp-layout-color2: #454545;\n",
              "                    background-color: #383838;\n",
              "                }\n",
              "\n",
              "                .geemap-dark .jupyter-button {\n",
              "                    --jp-layout-color3: #383838;\n",
              "                }\n",
              "\n",
              "                .geemap-colab {\n",
              "                    background-color: var(--colab-primary-surface-color, white);\n",
              "                }\n",
              "\n",
              "                .geemap-colab .jupyter-button {\n",
              "                    --jp-layout-color3: var(--colab-primary-surface-color, white);\n",
              "                }\n",
              "            </style>\n",
              "            "
            ]
          },
          "metadata": {}
        },
        {
          "output_type": "stream",
          "name": "stdout",
          "text": [
            "Original data size: 496\n",
            "Final data size: 433\n"
          ]
        }
      ],
      "source": [
        "def remove_duplicates(data, grain_size):\n",
        "    # Select one occurrence record per pixel at the chosen spatial resolution\n",
        "    random_raster = ee.Image.random().reproject(\"EPSG:4326\", None, grain_size)\n",
        "    rand_point_vals = random_raster.sampleRegions(\n",
        "        collection=ee.FeatureCollection(data), geometries=True\n",
        "    )\n",
        "    return rand_point_vals.distinct(\"random\")\n",
        "\n",
        "\n",
        "data = remove_duplicates(data_raw, grain_size)\n",
        "\n",
        "# Before selection and after selection\n",
        "print(\"Original data size:\", data_raw.size().getInfo())\n",
        "print(\"Final data size:\", data.size().getInfo())"
      ]
    },
    {
      "cell_type": "markdown",
      "metadata": {
        "id": "Rhu4b4BxuMHE"
      },
      "source": [
        "The visualization comparing geographic sampling bias before preprocessing (in blue) and after preprocessing (in red) is shown below. To facilitate comparison, the map has been centered on the area with a high concentration of Fairy pitta occurrence coordinates in Hallasan National Park."
      ]
    },
    {
      "cell_type": "code",
      "execution_count": null,
      "metadata": {
        "id": "d9pFgpUztsB-"
      },
      "outputs": [],
      "source": [
        "# Visualization of geographic sampling bias before (blue) and after (red) preprocessing\n",
        "Map = geemap.Map(layout={\"height\": \"400px\", \"width\": \"800px\"})\n",
        "\n",
        "# Add the original data layer in blue\n",
        "Map.addLayer(data_raw, {\"color\": \"blue\"}, \"Original data\")\n",
        "\n",
        "# Add the final data layer in red\n",
        "Map.addLayer(data, {\"color\": \"red\"}, \"Final data\")\n",
        "\n",
        "# Show map\n",
        "Map"
      ]
    },
    {
      "cell_type": "markdown",
      "metadata": {
        "id": "3oPtTj_O6d3H"
      },
      "source": [
        "### Definition of the Area of Interest\n",
        "\n",
        "Defining the Area of Interest (AOI below) refers to the term used by researchers to denote the geographical area they want to analyze. It has a similar meaning to the term Study Area.\n",
        "\n",
        "In this context, we obtained the bounding box of the occurrence point layer geometry and created a 50-kilometer buffer around it (with a maximum tolerance of 1,000 meters) to define the AOI."
      ]
    },
    {
      "cell_type": "code",
      "execution_count": null,
      "metadata": {
        "id": "XIyhhdzUvyZw",
        "colab": {
          "base_uri": "https://localhost:8080/",
          "height": 421,
          "referenced_widgets": [
            "2053bd39951c419d85c4b4e658d91504",
            "4f53b5c0a3c54f2c8e563a5cbcb8258f",
            "569af29dbbdf45f48c540dffa09bfa3e",
            "915de9ced905485abf85f268cd2841b4",
            "8d6c040b6f534f11a7de856d023566b3",
            "7d6bae7291d44f768f876aaccc8a434b",
            "edfddfcc6926442eb78729b346a51048",
            "92174a2991b34df2b29a40e32cf1478b",
            "24a81a1fa5114e58aa56efa452183c64",
            "9ccb9774f6294bccae7ee290c4de07e1",
            "b75fe784544947bea517897459c7e731",
            "c00cd3e53e99440994c094d925ba7108",
            "dacef53019304de482332e7755644383",
            "45e2865fd3ea411b8f0259f822d1ce42",
            "0516dcfe1f8b46fda87ef8d75167601f",
            "4ed31c81c1c846b7b5ae102bb329668c",
            "4003648d200441dbb9c49f3c621f28cd",
            "575203e69fb340279020c25560fbcd3c",
            "b91ebe12c6a74ebaa30338d5f734e2c8",
            "e9cc9bacd9834449b425522b12bc5b7e",
            "b0ffefbd864f44f58d47ff477d40380d",
            "efd47b5088a84ce7999ae81b54e3f7f3",
            "0a79732fe9514b529f91c2e98f6004a8",
            "64961b3873004ad7b19fdde650eba675",
            "4fb7ae68e0594fe1b73cfa3a79e591b7",
            "030163f69f1a4847b0d32afebed838d9",
            "5679654c0ce148d6afe3499ece595528",
            "cd22a3588ef442a98457cc361ce9e472",
            "b5f234f9df5a4b139a16907ce19dc92b",
            "a369840cc090433bb50c13a93859e294",
            "d04dcb6f59904cefa71a7fa9c0c508bd",
            "9b2851a9bfb947dea787a3920ecb20a8",
            "db17e12cb2c341d5be393552133c3c39",
            "dc3210afccdd44a696a37db75ce4243c",
            "3d07fee437564e51b66bfbba7b7da925",
            "719f1fb97e1f4fb48360b58f88577d9c",
            "c04730294c9345d0a58ef2bf5650ce56",
            "ba35cecd5b2342c4aaf3de03002053ee",
            "2969a342081d4b5c8825f76a70f9d671",
            "d92e7eab38754a6b8f074a3490563cac",
            "985c3c96c3a644298864968d2a429f3a",
            "7144dc4dbbed4b158999cc1df47f978e",
            "f9158297505a4765ba1582b47e8ae655",
            "2685360c19ad4da998dbc61875a507aa",
            "cb2e6a4e48564c89a9dad299d1a6d64b",
            "514eda96b5ec4f60909797a8474d5669",
            "93b4b023cd8f4fbd9983d5fd7e0f99a5",
            "850e285847dd46fbb4bb50e6d3e6260e",
            "fbdc1b1930124308ac330d8b57a92000",
            "572d1127c3b44f0ab0cc689dd165680d",
            "0492e15ade924af5b641e20e4a09f482",
            "84c6a9a8b325427aa0cf3b5a134aab4e",
            "3d4eb763c9b145369925dff25f1da64f",
            "5149202cfa034ccb84eb763db879103e",
            "6bb96159d5fa4ff4ae5bc34d2b3f7007",
            "f2a5c44d31b54d5f888057d4d2362c69",
            "dd6aad3e758e45abb3b49c7bc0e02808",
            "891ed1990e874fe789539647d78ec01f",
            "538f923ec9824421a14107aa741eb674",
            "d971bbc7f62c420ba4311787d1d7836d",
            "af90119e6928490eaf0511578a127a87",
            "7ceb07b7e2f74f87a9bada30c9699e6e",
            "b40af99e9372429091ae4ca64481c666",
            "1dae8561dd1e407e85ed1659449c7677",
            "61257f68f4ce45e9a1f89608a9ee3184",
            "8542e7ce8ec8482894b9a51e7b49d0ba",
            "6a148a67fa3d464cb8c8b291c1833c8c",
            "075ef211fa354929977b383450a2dcfa",
            "a09bea0e428646838fe5df4b0c3cd32d",
            "6b2a4e2ba2b84ba599f5a959db8b411d",
            "840a545795b2483883c1ab58f2ffbe15",
            "a1bde69d02424cf299039377bec9ca97",
            "91c2c5cece8f4a9f96c38dd06aff1618",
            "75f29a9715c640e2a5ff5b3b70c7b699",
            "ac31a31b971b4a39b969477783543795",
            "907c36596b6b43658e7d363e6e1ce9e9",
            "3d128d08493049c59742c5f4f86c1c3e",
            "45bed5ef51d04b43a8a7a0325f7aa73e",
            "322084204b5d4c6c8c33f5d96b25193d",
            "7e92a8cf341b4f41b0009edb2aa5b6cd",
            "c0e859bfda4b4cbe8d777123fddd03cf",
            "c3cd9530516645ecb7d70fb16c40c7bf",
            "8468bf6aa7084820b17ffc52a15da73b",
            "4fd3a509055d48e9996f5b2342e18c96",
            "f27d8d3e3c0444b39af99fefa4410d2a",
            "ab5091cd08af41ec92360a4953d50d9c",
            "e0b57f571a3f4597987e9cd448c2a082",
            "3faa960e45b94ddf877c00eceec4ef76",
            "a9a90015dcc849439dbd310ee3c1f4d3",
            "a576f57a36a8425aa368dbf6750f9775",
            "3bd68179d4e34c98aff2b7cb10f65486",
            "61f2d319974d45e2ad47622eb4f02808",
            "688ffd8622ff4451bd69de05a809e073",
            "058da69dc552499b9a78d93df2b4fcab",
            "273de320157e40fcaf11d18c5f04077a",
            "9d217903d00e4de3a2acc8b7004413af",
            "05a54d3583f24ecf997669f90cd7e1de",
            "6566a81b78be4b29867cb97a67e2442d",
            "54b9953085ad4352a07c2a54c7e907fe",
            "ca2abfab85674aea935866c7ffafd767",
            "aa668f93f4c74840ad462f6c6703819f",
            "4032fad6c7514131a5b28af830426912",
            "3691581057284fd1b7183dda4b87b029",
            "abd2cbd1074e48f2a7c7968970ad63bc",
            "e2f68a8b1648467b96da236a724be3ba"
          ]
        },
        "outputId": "7ac8510c-9f6e-4658-98b1-c813498fb576"
      },
      "outputs": [
        {
          "output_type": "display_data",
          "data": {
            "text/plain": [
              "<IPython.core.display.HTML object>"
            ],
            "text/html": [
              "\n",
              "            <style>\n",
              "                .geemap-dark {\n",
              "                    --jp-widgets-color: white;\n",
              "                    --jp-widgets-label-color: white;\n",
              "                    --jp-ui-font-color1: white;\n",
              "                    --jp-layout-color2: #454545;\n",
              "                    background-color: #383838;\n",
              "                }\n",
              "\n",
              "                .geemap-dark .jupyter-button {\n",
              "                    --jp-layout-color3: #383838;\n",
              "                }\n",
              "\n",
              "                .geemap-colab {\n",
              "                    background-color: var(--colab-primary-surface-color, white);\n",
              "                }\n",
              "\n",
              "                .geemap-colab .jupyter-button {\n",
              "                    --jp-layout-color3: var(--colab-primary-surface-color, white);\n",
              "                }\n",
              "            </style>\n",
              "            "
            ]
          },
          "metadata": {}
        },
        {
          "output_type": "display_data",
          "data": {
            "text/plain": [
              "Map(center=[35.86566467022178, -120.20805976638766], controls=(WidgetControl(options=['position', 'transparent…"
            ],
            "application/vnd.jupyter.widget-view+json": {
              "version_major": 2,
              "version_minor": 0,
              "model_id": "2053bd39951c419d85c4b4e658d91504"
            }
          },
          "metadata": {
            "application/vnd.jupyter.widget-view+json": {
              "colab": {
                "custom_widget_manager": {
                  "url": "https://ssl.gstatic.com/colaboratory-static/widgets/colab-cdn-widget-manager/2b70e893a8ba7c0f/manager.min.js"
                }
              }
            }
          }
        }
      ],
      "source": [
        "# Define the AOI\n",
        "aoi = data.geometry().bounds().buffer(distance=50000, maxError=1000)\n",
        "\n",
        "# Add the AOI to the map\n",
        "outline = ee.Image().byte().paint(\n",
        "    featureCollection=aoi, color=1, width=3)\n",
        "\n",
        "Map.addLayer(outline, {'palette': 'FF0000'}, \"AOI\")\n",
        "Map.centerObject(aoi, 6)\n",
        "Map"
      ]
    },
    {
      "cell_type": "markdown",
      "metadata": {
        "id": "fWsplwHD8ZFd"
      },
      "source": [
        "### Addition of GEE environmental variables\n",
        "\n",
        "Here we are using GFDL-ESM4-ssp370-bio-2041-2060 dataset which gives us the 19 bioclimatic variables for the years 2041 - 2060 from the CMIP6 future climate models, using the SSP370 pathway. The data comes as a GEE object, which was added to my GEE account, and is accessed using the asset ID.\n",
        "\n",
        "https://www.worldclim.org/data/cmip6/cmip6_clim10m.html"
      ]
    },
    {
      "cell_type": "code",
      "source": [
        "# Set your asset ID (the same as when you uploaded)\n",
        "asset_id = 'projects/ee-rs25-code/assets/GFDL-ESM4-ssp370-bio-2041-2060'\n",
        "\n",
        "try:\n",
        "    # Load the image\n",
        "    bio = ee.Image(asset_id)\n",
        "\n",
        "    # Print some information about the image\n",
        "    # print(bio.getInfo())\n",
        "\n",
        "    # Example: Get the projection\n",
        "    # projection = bio.projection()\n",
        "    # print(\"Projection:\", projection.getInfo())\n",
        "\n",
        "    # Example: Get the band names\n",
        "    band_names = bio.bandNames()\n",
        "    print(\"Band names:\", band_names.getInfo())\n",
        "\n",
        "    # Now you can use the image in your Earth Engine analysis.\n",
        "    # For example, to display it on a map:\n",
        "    # import ee.mapclient\n",
        "    # ee.mapclient.centerMap(-118, 34, 6) # Example coordinates\n",
        "    # ee.mapclient.addToMap(image, {'bands': ['bio1'], 'min': 0, 'max': 4000}, 'Bioclimatic Variable 1') # Example visualization\n",
        "\n",
        "except ee.ee_exception.EEException as e:\n",
        "    print(f\"Error loading image: {e}\")\n",
        "except Exception as e:\n",
        "    print(f\"An unexpected error occurred: {e}\")"
      ],
      "metadata": {
        "colab": {
          "base_uri": "https://localhost:8080/",
          "height": 34
        },
        "id": "VLpv8pMQEsHs",
        "outputId": "f99adcae-1947-4e7e-af86-2c5dd871c005"
      },
      "execution_count": null,
      "outputs": [
        {
          "output_type": "display_data",
          "data": {
            "text/plain": [
              "<IPython.core.display.HTML object>"
            ],
            "text/html": [
              "\n",
              "            <style>\n",
              "                .geemap-dark {\n",
              "                    --jp-widgets-color: white;\n",
              "                    --jp-widgets-label-color: white;\n",
              "                    --jp-ui-font-color1: white;\n",
              "                    --jp-layout-color2: #454545;\n",
              "                    background-color: #383838;\n",
              "                }\n",
              "\n",
              "                .geemap-dark .jupyter-button {\n",
              "                    --jp-layout-color3: #383838;\n",
              "                }\n",
              "\n",
              "                .geemap-colab {\n",
              "                    background-color: var(--colab-primary-surface-color, white);\n",
              "                }\n",
              "\n",
              "                .geemap-colab .jupyter-button {\n",
              "                    --jp-layout-color3: var(--colab-primary-surface-color, white);\n",
              "                }\n",
              "            </style>\n",
              "            "
            ]
          },
          "metadata": {}
        },
        {
          "output_type": "stream",
          "name": "stdout",
          "text": [
            "Band names: ['b1', 'b2', 'b3', 'b4', 'b5', 'b6', 'b7', 'b8', 'b9', 'b10', 'b11', 'b12', 'b13', 'b14', 'b15', 'b16', 'b17', 'b18', 'b19']\n"
          ]
        }
      ]
    },
    {
      "cell_type": "code",
      "execution_count": null,
      "metadata": {
        "id": "TNW23qpX7shy",
        "colab": {
          "base_uri": "https://localhost:8080/",
          "height": 17
        },
        "outputId": "1df68826-9227-4bea-ebe0-5ad6f1cdd361"
      },
      "outputs": [
        {
          "output_type": "display_data",
          "data": {
            "text/plain": [
              "<IPython.core.display.HTML object>"
            ],
            "text/html": [
              "\n",
              "            <style>\n",
              "                .geemap-dark {\n",
              "                    --jp-widgets-color: white;\n",
              "                    --jp-widgets-label-color: white;\n",
              "                    --jp-ui-font-color1: white;\n",
              "                    --jp-layout-color2: #454545;\n",
              "                    background-color: #383838;\n",
              "                }\n",
              "\n",
              "                .geemap-dark .jupyter-button {\n",
              "                    --jp-layout-color3: #383838;\n",
              "                }\n",
              "\n",
              "                .geemap-colab {\n",
              "                    background-color: var(--colab-primary-surface-color, white);\n",
              "                }\n",
              "\n",
              "                .geemap-colab .jupyter-button {\n",
              "                    --jp-layout-color3: var(--colab-primary-surface-color, white);\n",
              "                }\n",
              "            </style>\n",
              "            "
            ]
          },
          "metadata": {}
        }
      ],
      "source": [
        "# WorldClim V1 Bioclim\n",
        "# bio = ee.Image(\"WORLDCLIM/V1/BIO\")"
      ]
    },
    {
      "cell_type": "markdown",
      "metadata": {
        "id": "AzrCwWu39iLw"
      },
      "source": [
        "[**NASA SRTM Digital Elevation 30m**](https://developers.google.com/earth-engine/datasets/catalog/USGS_SRTMGL1_003): This dataset contains digital elevation data from the Shuttle Radar Topography Mission (SRTM). The data was primarily collected around the year 2000 and is provided at a resolution of approximately 30 meters (1 arc-second). The following code calculates elevation, slope, aspect, and hillshade layers from the SRTM data."
      ]
    },
    {
      "cell_type": "code",
      "execution_count": null,
      "metadata": {
        "id": "O8lPyhWv9hHn",
        "colab": {
          "base_uri": "https://localhost:8080/",
          "height": 17
        },
        "outputId": "bcac4d5c-19ed-46ac-95aa-cbce18b727b3"
      },
      "outputs": [
        {
          "output_type": "display_data",
          "data": {
            "text/plain": [
              "<IPython.core.display.HTML object>"
            ],
            "text/html": [
              "\n",
              "            <style>\n",
              "                .geemap-dark {\n",
              "                    --jp-widgets-color: white;\n",
              "                    --jp-widgets-label-color: white;\n",
              "                    --jp-ui-font-color1: white;\n",
              "                    --jp-layout-color2: #454545;\n",
              "                    background-color: #383838;\n",
              "                }\n",
              "\n",
              "                .geemap-dark .jupyter-button {\n",
              "                    --jp-layout-color3: #383838;\n",
              "                }\n",
              "\n",
              "                .geemap-colab {\n",
              "                    background-color: var(--colab-primary-surface-color, white);\n",
              "                }\n",
              "\n",
              "                .geemap-colab .jupyter-button {\n",
              "                    --jp-layout-color3: var(--colab-primary-surface-color, white);\n",
              "                }\n",
              "            </style>\n",
              "            "
            ]
          },
          "metadata": {}
        }
      ],
      "source": [
        "# NASA SRTM Digital Elevation 30m\n",
        "terrain = ee.Algorithms.Terrain(ee.Image(\"USGS/SRTMGL1_003\"))"
      ]
    },
    {
      "cell_type": "markdown",
      "metadata": {
        "id": "H-kFHdWP9_3N"
      },
      "source": [
        "[**Global Forest Cover Change (GFCC) Tree Cover Multi-Year Global 30m**](https://developers.google.com/earth-engine/datasets/catalog/NASA_MEASURES_GFCC_TC_v3): The Vegetation Continuous Fields (VCF) dataset from Landsat estimates the proportion of vertically projected vegetation cover when the vegetation height is greater than 5 meters. This dataset is provided for four time periods centered around the years 2000, 2005, 2010, and 2015, with a resolution of 30 meters. Here, the median values from these four time periods are used."
      ]
    },
    {
      "cell_type": "code",
      "execution_count": null,
      "metadata": {
        "id": "-ymsifA098H6",
        "colab": {
          "base_uri": "https://localhost:8080/",
          "height": 17
        },
        "outputId": "bce37b7c-7575-42dd-c3aa-5dd72d7db61d"
      },
      "outputs": [
        {
          "output_type": "display_data",
          "data": {
            "text/plain": [
              "<IPython.core.display.HTML object>"
            ],
            "text/html": [
              "\n",
              "            <style>\n",
              "                .geemap-dark {\n",
              "                    --jp-widgets-color: white;\n",
              "                    --jp-widgets-label-color: white;\n",
              "                    --jp-ui-font-color1: white;\n",
              "                    --jp-layout-color2: #454545;\n",
              "                    background-color: #383838;\n",
              "                }\n",
              "\n",
              "                .geemap-dark .jupyter-button {\n",
              "                    --jp-layout-color3: #383838;\n",
              "                }\n",
              "\n",
              "                .geemap-colab {\n",
              "                    background-color: var(--colab-primary-surface-color, white);\n",
              "                }\n",
              "\n",
              "                .geemap-colab .jupyter-button {\n",
              "                    --jp-layout-color3: var(--colab-primary-surface-color, white);\n",
              "                }\n",
              "            </style>\n",
              "            "
            ]
          },
          "metadata": {}
        }
      ],
      "source": [
        "# Global Forest Cover Change (GFCC) Tree Cover Multi-Year Global 30m\n",
        "tcc = ee.ImageCollection(\"NASA/MEASURES/GFCC/TC/v3\")\n",
        "median_tcc = (\n",
        "    tcc.filterDate(\"2000-01-01\", \"2015-12-31\")\n",
        "    .select([\"tree_canopy_cover\"], [\"TCC\"])\n",
        "    .median()\n",
        ")"
      ]
    },
    {
      "cell_type": "markdown",
      "metadata": {
        "id": "CMrmqQ5X-uOB"
      },
      "source": [
        "`bio` (Bioclimatic variables), `terrain` (topography), and `median_tcc` (tree canopy cover) are combined into a single multiband image. The `elevation` band is selected from `terrain`, and a `watermask` is created for locations where `elevation` is greater than `0`. This masks regions below sea level (e.g. the ocean) and prepares the researcher to analyze various environmental factors for the AOI comprehensively."
      ]
    },
    {
      "cell_type": "code",
      "source": [
        "# prompt: Add NDVI and NDMI data from MODIS to \"bio\"\n",
        "\n",
        "# ... (Your existing code)\n",
        "\n",
        "# MODIS NDVI\n",
        "modis_ndvi = ee.ImageCollection('MODIS/006/MOD13Q1') \\\n",
        "    .filterDate('2000-01-01', '2020-12-31') \\\n",
        "    .select('NDVI') \\\n",
        "    .mean() \\\n",
        "    .rename('modis_ndvi')\n",
        "\n",
        "bio = bio.addBands(modis_ndvi)\n",
        "print(bio.bandNames().getInfo())\n",
        "\n",
        "# LANDSAT 9 NDMI\n",
        "landsat_ndmi = ee.ImageCollection('LANDSAT/LC09/C02/T1_L2') \\\n",
        "    .filterDate('2000-01-01', '2020-12-31') \\\n",
        "    .select(['SR_B5', 'SR_B6']) \\\n",
        "    .map(lambda image: image.normalizedDifference(['SR_B5', 'SR_B6']).rename('NDMI')) \\\n",
        "    .mean() \\\n",
        "    .rename('landsat_ndmi')\n",
        "\n",
        "bio = bio.addBands(landsat_ndmi)\n",
        "print(bio.bandNames().getInfo())"
      ],
      "metadata": {
        "colab": {
          "base_uri": "https://localhost:8080/",
          "height": 52
        },
        "id": "XoRNeVubHmqW",
        "outputId": "9c4a89f2-a16a-4e31-e72d-d4ecf7b2bbbb"
      },
      "execution_count": null,
      "outputs": [
        {
          "output_type": "display_data",
          "data": {
            "text/plain": [
              "<IPython.core.display.HTML object>"
            ],
            "text/html": [
              "\n",
              "            <style>\n",
              "                .geemap-dark {\n",
              "                    --jp-widgets-color: white;\n",
              "                    --jp-widgets-label-color: white;\n",
              "                    --jp-ui-font-color1: white;\n",
              "                    --jp-layout-color2: #454545;\n",
              "                    background-color: #383838;\n",
              "                }\n",
              "\n",
              "                .geemap-dark .jupyter-button {\n",
              "                    --jp-layout-color3: #383838;\n",
              "                }\n",
              "\n",
              "                .geemap-colab {\n",
              "                    background-color: var(--colab-primary-surface-color, white);\n",
              "                }\n",
              "\n",
              "                .geemap-colab .jupyter-button {\n",
              "                    --jp-layout-color3: var(--colab-primary-surface-color, white);\n",
              "                }\n",
              "            </style>\n",
              "            "
            ]
          },
          "metadata": {}
        },
        {
          "output_type": "stream",
          "name": "stdout",
          "text": [
            "['b1', 'b2', 'b3', 'b4', 'b5', 'b6', 'b7', 'b8', 'b9', 'b10', 'b11', 'b12', 'b13', 'b14', 'b15', 'b16', 'b17', 'b18', 'b19', 'modis_ndvi']\n",
            "['b1', 'b2', 'b3', 'b4', 'b5', 'b6', 'b7', 'b8', 'b9', 'b10', 'b11', 'b12', 'b13', 'b14', 'b15', 'b16', 'b17', 'b18', 'b19', 'modis_ndvi', 'landsat_ndmi']\n"
          ]
        }
      ]
    },
    {
      "cell_type": "code",
      "source": [
        "# prompt: Add MODIS burned area dataset MCD64A1 to bio\n",
        "\n",
        "# ... (Your existing code)\n",
        "\n",
        "# MODIS Burned Area\n",
        "modis_burned_area = ee.ImageCollection('MODIS/006/MCD64A1') \\\n",
        "    .filterDate('2000-01-01', '2020-12-31') \\\n",
        "    .select('BurnDate') \\\n",
        "    .mean() \\\n",
        "    .rename('modis_burned_area')\n",
        "\n",
        "bio = bio.addBands(modis_burned_area)\n",
        "print(bio.bandNames().getInfo())"
      ],
      "metadata": {
        "colab": {
          "base_uri": "https://localhost:8080/",
          "height": 34
        },
        "id": "t3Jfkcz9xe_X",
        "outputId": "f16ad1f7-ee67-48a6-b36a-4e2c2d8dbc33"
      },
      "execution_count": null,
      "outputs": [
        {
          "output_type": "display_data",
          "data": {
            "text/plain": [
              "<IPython.core.display.HTML object>"
            ],
            "text/html": [
              "\n",
              "            <style>\n",
              "                .geemap-dark {\n",
              "                    --jp-widgets-color: white;\n",
              "                    --jp-widgets-label-color: white;\n",
              "                    --jp-ui-font-color1: white;\n",
              "                    --jp-layout-color2: #454545;\n",
              "                    background-color: #383838;\n",
              "                }\n",
              "\n",
              "                .geemap-dark .jupyter-button {\n",
              "                    --jp-layout-color3: #383838;\n",
              "                }\n",
              "\n",
              "                .geemap-colab {\n",
              "                    background-color: var(--colab-primary-surface-color, white);\n",
              "                }\n",
              "\n",
              "                .geemap-colab .jupyter-button {\n",
              "                    --jp-layout-color3: var(--colab-primary-surface-color, white);\n",
              "                }\n",
              "            </style>\n",
              "            "
            ]
          },
          "metadata": {}
        },
        {
          "output_type": "stream",
          "name": "stdout",
          "text": [
            "['b1', 'b2', 'b3', 'b4', 'b5', 'b6', 'b7', 'b8', 'b9', 'b10', 'b11', 'b12', 'b13', 'b14', 'b15', 'b16', 'b17', 'b18', 'b19', 'modis_ndvi', 'landsat_ndmi', 'modis_burned_area']\n"
          ]
        }
      ]
    },
    {
      "cell_type": "code",
      "execution_count": null,
      "metadata": {
        "id": "gSbuqe6k-k6B",
        "colab": {
          "base_uri": "https://localhost:8080/",
          "height": 17
        },
        "outputId": "e741d63d-6e30-4a5d-d6a3-21ffa6878be5"
      },
      "outputs": [
        {
          "output_type": "display_data",
          "data": {
            "text/plain": [
              "<IPython.core.display.HTML object>"
            ],
            "text/html": [
              "\n",
              "            <style>\n",
              "                .geemap-dark {\n",
              "                    --jp-widgets-color: white;\n",
              "                    --jp-widgets-label-color: white;\n",
              "                    --jp-ui-font-color1: white;\n",
              "                    --jp-layout-color2: #454545;\n",
              "                    background-color: #383838;\n",
              "                }\n",
              "\n",
              "                .geemap-dark .jupyter-button {\n",
              "                    --jp-layout-color3: #383838;\n",
              "                }\n",
              "\n",
              "                .geemap-colab {\n",
              "                    background-color: var(--colab-primary-surface-color, white);\n",
              "                }\n",
              "\n",
              "                .geemap-colab .jupyter-button {\n",
              "                    --jp-layout-color3: var(--colab-primary-surface-color, white);\n",
              "                }\n",
              "            </style>\n",
              "            "
            ]
          },
          "metadata": {}
        }
      ],
      "source": [
        "# Combine bands into a multi-band image\n",
        "predictors = bio.addBands(terrain).addBands(median_tcc)\n",
        "\n",
        "# Create a water mask\n",
        "watermask = terrain.select('elevation').gt(0)\n",
        "\n",
        "# Mask out ocean pixels and clip to the area of interest\n",
        "predictors = predictors.updateMask(watermask).clip(aoi)"
      ]
    },
    {
      "cell_type": "markdown",
      "metadata": {
        "id": "WmuXiScSAlxX"
      },
      "source": [
        "When highly correlated predictor variables are included together in a model, multicollinearity issues can arise. Multicollinearity is a phenomenon that occurs when there are strong linear relationships among independent variables in a model, leading to instability in the estimation of the model's coefficients (weights). This instability can reduce the model's reliability and make predictions or interpretations for new data challenging. Therefore, we will consider multicollinearity and proceed with the process of selecting predictor variables.\n",
        "\n",
        "First, we will generate 5,000 random points and then extract the predictor variable values of the single multiband image at those points."
      ]
    },
    {
      "cell_type": "code",
      "execution_count": null,
      "metadata": {
        "id": "vYLvzPDwAeyk",
        "colab": {
          "base_uri": "https://localhost:8080/",
          "height": 17
        },
        "outputId": "52d45cc9-c892-4103-9124-3898fcdcb4e0"
      },
      "outputs": [
        {
          "output_type": "display_data",
          "data": {
            "text/plain": [
              "<IPython.core.display.HTML object>"
            ],
            "text/html": [
              "\n",
              "            <style>\n",
              "                .geemap-dark {\n",
              "                    --jp-widgets-color: white;\n",
              "                    --jp-widgets-label-color: white;\n",
              "                    --jp-ui-font-color1: white;\n",
              "                    --jp-layout-color2: #454545;\n",
              "                    background-color: #383838;\n",
              "                }\n",
              "\n",
              "                .geemap-dark .jupyter-button {\n",
              "                    --jp-layout-color3: #383838;\n",
              "                }\n",
              "\n",
              "                .geemap-colab {\n",
              "                    background-color: var(--colab-primary-surface-color, white);\n",
              "                }\n",
              "\n",
              "                .geemap-colab .jupyter-button {\n",
              "                    --jp-layout-color3: var(--colab-primary-surface-color, white);\n",
              "                }\n",
              "            </style>\n",
              "            "
            ]
          },
          "metadata": {}
        }
      ],
      "source": [
        "# Generate 5,000 random points\n",
        "data_cor = predictors.sample(scale=grain_size, numPixels=5000, geometries=True)\n",
        "\n",
        "# Extract predictor variable values\n",
        "pvals = predictors.sampleRegions(collection=data_cor, scale=grain_size)"
      ]
    },
    {
      "cell_type": "code",
      "source": [
        "# Get the total number of features in merged_pvals\n",
        "\n",
        "def get_feature_count(feature_collection):\n",
        "  \"\"\"Retrieves the feature count using evaluate.\"\"\"\n",
        "  feature_count = feature_collection.size()\n",
        "  #return feature_count.evaluate(lambda count: count) # evaluate is not needed here.\n",
        "  return feature_count.getInfo() # Use getInfo() to get the computed value\n",
        "\n",
        "# Get the feature count asynchronously and print it.\n",
        "total_features = get_feature_count(pvals)\n",
        "print(f\"Total number of features: {total_features}\")"
      ],
      "metadata": {
        "colab": {
          "base_uri": "https://localhost:8080/",
          "height": 34
        },
        "id": "nJ5jXGSVX40E",
        "outputId": "13b36563-6086-4186-dcbc-8a273760c3b3"
      },
      "execution_count": null,
      "outputs": [
        {
          "output_type": "display_data",
          "data": {
            "text/plain": [
              "<IPython.core.display.HTML object>"
            ],
            "text/html": [
              "\n",
              "            <style>\n",
              "                .geemap-dark {\n",
              "                    --jp-widgets-color: white;\n",
              "                    --jp-widgets-label-color: white;\n",
              "                    --jp-ui-font-color1: white;\n",
              "                    --jp-layout-color2: #454545;\n",
              "                    background-color: #383838;\n",
              "                }\n",
              "\n",
              "                .geemap-dark .jupyter-button {\n",
              "                    --jp-layout-color3: #383838;\n",
              "                }\n",
              "\n",
              "                .geemap-colab {\n",
              "                    background-color: var(--colab-primary-surface-color, white);\n",
              "                }\n",
              "\n",
              "                .geemap-colab .jupyter-button {\n",
              "                    --jp-layout-color3: var(--colab-primary-surface-color, white);\n",
              "                }\n",
              "            </style>\n",
              "            "
            ]
          },
          "metadata": {}
        },
        {
          "output_type": "stream",
          "name": "stdout",
          "text": [
            "Total number of features: 531\n"
          ]
        }
      ]
    },
    {
      "cell_type": "markdown",
      "metadata": {
        "id": "oHWmXtTxCmfV"
      },
      "source": [
        "We will convert the extracted predictor values for each point into a DataFrame and then check the first row."
      ]
    },
    {
      "cell_type": "code",
      "source": [
        "# Set the batch size\n",
        "batch_size = 100  # Adjust as needed\n",
        "\n",
        "# Initialize an empty DataFrame\n",
        "pvals_df = pd.DataFrame()\n",
        "\n",
        "# Process in batches\n",
        "for i in range(0, total_features, batch_size):\n",
        "    # Get a batch of features\n",
        "    batch = pvals.toList(batch_size, i)\n",
        "\n",
        "    # Convert the batch to a DataFrame\n",
        "    batch_df = geemap.ee_to_df(ee.FeatureCollection(batch))\n",
        "\n",
        "    # Append the batch DataFrame to pvals_df\n",
        "    pvals_df = pd.concat([pvals_df, batch_df], ignore_index=True)\n",
        "    print(f\"Processed {i} features.\")\n",
        "\n",
        "print(f\"Processed {total_features} features in {total_features // batch_size + 1} batches.\")"
      ],
      "metadata": {
        "colab": {
          "base_uri": "https://localhost:8080/",
          "height": 139
        },
        "id": "lV34imEtUc5e",
        "outputId": "514ec377-5661-4f2e-bbfd-300b6af75440"
      },
      "execution_count": null,
      "outputs": [
        {
          "output_type": "display_data",
          "data": {
            "text/plain": [
              "<IPython.core.display.HTML object>"
            ],
            "text/html": [
              "\n",
              "            <style>\n",
              "                .geemap-dark {\n",
              "                    --jp-widgets-color: white;\n",
              "                    --jp-widgets-label-color: white;\n",
              "                    --jp-ui-font-color1: white;\n",
              "                    --jp-layout-color2: #454545;\n",
              "                    background-color: #383838;\n",
              "                }\n",
              "\n",
              "                .geemap-dark .jupyter-button {\n",
              "                    --jp-layout-color3: #383838;\n",
              "                }\n",
              "\n",
              "                .geemap-colab {\n",
              "                    background-color: var(--colab-primary-surface-color, white);\n",
              "                }\n",
              "\n",
              "                .geemap-colab .jupyter-button {\n",
              "                    --jp-layout-color3: var(--colab-primary-surface-color, white);\n",
              "                }\n",
              "            </style>\n",
              "            "
            ]
          },
          "metadata": {}
        },
        {
          "output_type": "stream",
          "name": "stdout",
          "text": [
            "Processed 0 features.\n",
            "Processed 100 features.\n",
            "Processed 200 features.\n",
            "Processed 300 features.\n",
            "Processed 400 features.\n",
            "Processed 500 features.\n",
            "Processed 531 features in 6 batches.\n"
          ]
        }
      ]
    },
    {
      "cell_type": "code",
      "source": [
        "pvals_df.head(1)"
      ],
      "metadata": {
        "colab": {
          "base_uri": "https://localhost:8080/",
          "height": 130
        },
        "id": "1zXllT2-Cn7m",
        "outputId": "3166656f-49f3-45fa-ddde-572d74803b29"
      },
      "execution_count": null,
      "outputs": [
        {
          "output_type": "display_data",
          "data": {
            "text/plain": [
              "<IPython.core.display.HTML object>"
            ],
            "text/html": [
              "\n",
              "            <style>\n",
              "                .geemap-dark {\n",
              "                    --jp-widgets-color: white;\n",
              "                    --jp-widgets-label-color: white;\n",
              "                    --jp-ui-font-color1: white;\n",
              "                    --jp-layout-color2: #454545;\n",
              "                    background-color: #383838;\n",
              "                }\n",
              "\n",
              "                .geemap-dark .jupyter-button {\n",
              "                    --jp-layout-color3: #383838;\n",
              "                }\n",
              "\n",
              "                .geemap-colab {\n",
              "                    background-color: var(--colab-primary-surface-color, white);\n",
              "                }\n",
              "\n",
              "                .geemap-colab .jupyter-button {\n",
              "                    --jp-layout-color3: var(--colab-primary-surface-color, white);\n",
              "                }\n",
              "            </style>\n",
              "            "
            ]
          },
          "metadata": {}
        },
        {
          "output_type": "execute_result",
          "data": {
            "text/plain": [
              "    TCC  aspect         b1   b10   b11         b12        b13  b14  \\\n",
              "0  27.0      91  17.700001  23.9  12.4  434.299988  99.099998  0.4   \n",
              "\n",
              "          b15         b16  ...   b6    b7    b8         b9  elevation  \\\n",
              "0  101.699997  260.700012  ...  5.7  26.9  12.5  23.700001        789   \n",
              "\n",
              "   hillshade  landsat_ndmi  modis_burned_area   modis_ndvi  slope  \n",
              "0        140      0.084206              346.0  5287.396975     13  \n",
              "\n",
              "[1 rows x 27 columns]"
            ],
            "text/html": [
              "\n",
              "  <div id=\"df-e84fff3d-5078-4ff3-b316-f1fa26f547e5\" class=\"colab-df-container\">\n",
              "    <div>\n",
              "<style scoped>\n",
              "    .dataframe tbody tr th:only-of-type {\n",
              "        vertical-align: middle;\n",
              "    }\n",
              "\n",
              "    .dataframe tbody tr th {\n",
              "        vertical-align: top;\n",
              "    }\n",
              "\n",
              "    .dataframe thead th {\n",
              "        text-align: right;\n",
              "    }\n",
              "</style>\n",
              "<table border=\"1\" class=\"dataframe\">\n",
              "  <thead>\n",
              "    <tr style=\"text-align: right;\">\n",
              "      <th></th>\n",
              "      <th>TCC</th>\n",
              "      <th>aspect</th>\n",
              "      <th>b1</th>\n",
              "      <th>b10</th>\n",
              "      <th>b11</th>\n",
              "      <th>b12</th>\n",
              "      <th>b13</th>\n",
              "      <th>b14</th>\n",
              "      <th>b15</th>\n",
              "      <th>b16</th>\n",
              "      <th>...</th>\n",
              "      <th>b6</th>\n",
              "      <th>b7</th>\n",
              "      <th>b8</th>\n",
              "      <th>b9</th>\n",
              "      <th>elevation</th>\n",
              "      <th>hillshade</th>\n",
              "      <th>landsat_ndmi</th>\n",
              "      <th>modis_burned_area</th>\n",
              "      <th>modis_ndvi</th>\n",
              "      <th>slope</th>\n",
              "    </tr>\n",
              "  </thead>\n",
              "  <tbody>\n",
              "    <tr>\n",
              "      <th>0</th>\n",
              "      <td>27.0</td>\n",
              "      <td>91</td>\n",
              "      <td>17.700001</td>\n",
              "      <td>23.9</td>\n",
              "      <td>12.4</td>\n",
              "      <td>434.299988</td>\n",
              "      <td>99.099998</td>\n",
              "      <td>0.4</td>\n",
              "      <td>101.699997</td>\n",
              "      <td>260.700012</td>\n",
              "      <td>...</td>\n",
              "      <td>5.7</td>\n",
              "      <td>26.9</td>\n",
              "      <td>12.5</td>\n",
              "      <td>23.700001</td>\n",
              "      <td>789</td>\n",
              "      <td>140</td>\n",
              "      <td>0.084206</td>\n",
              "      <td>346.0</td>\n",
              "      <td>5287.396975</td>\n",
              "      <td>13</td>\n",
              "    </tr>\n",
              "  </tbody>\n",
              "</table>\n",
              "<p>1 rows × 27 columns</p>\n",
              "</div>\n",
              "    <div class=\"colab-df-buttons\">\n",
              "\n",
              "  <div class=\"colab-df-container\">\n",
              "    <button class=\"colab-df-convert\" onclick=\"convertToInteractive('df-e84fff3d-5078-4ff3-b316-f1fa26f547e5')\"\n",
              "            title=\"Convert this dataframe to an interactive table.\"\n",
              "            style=\"display:none;\">\n",
              "\n",
              "  <svg xmlns=\"http://www.w3.org/2000/svg\" height=\"24px\" viewBox=\"0 -960 960 960\">\n",
              "    <path d=\"M120-120v-720h720v720H120Zm60-500h600v-160H180v160Zm220 220h160v-160H400v160Zm0 220h160v-160H400v160ZM180-400h160v-160H180v160Zm440 0h160v-160H620v160ZM180-180h160v-160H180v160Zm440 0h160v-160H620v160Z\"/>\n",
              "  </svg>\n",
              "    </button>\n",
              "\n",
              "  <style>\n",
              "    .colab-df-container {\n",
              "      display:flex;\n",
              "      gap: 12px;\n",
              "    }\n",
              "\n",
              "    .colab-df-convert {\n",
              "      background-color: #E8F0FE;\n",
              "      border: none;\n",
              "      border-radius: 50%;\n",
              "      cursor: pointer;\n",
              "      display: none;\n",
              "      fill: #1967D2;\n",
              "      height: 32px;\n",
              "      padding: 0 0 0 0;\n",
              "      width: 32px;\n",
              "    }\n",
              "\n",
              "    .colab-df-convert:hover {\n",
              "      background-color: #E2EBFA;\n",
              "      box-shadow: 0px 1px 2px rgba(60, 64, 67, 0.3), 0px 1px 3px 1px rgba(60, 64, 67, 0.15);\n",
              "      fill: #174EA6;\n",
              "    }\n",
              "\n",
              "    .colab-df-buttons div {\n",
              "      margin-bottom: 4px;\n",
              "    }\n",
              "\n",
              "    [theme=dark] .colab-df-convert {\n",
              "      background-color: #3B4455;\n",
              "      fill: #D2E3FC;\n",
              "    }\n",
              "\n",
              "    [theme=dark] .colab-df-convert:hover {\n",
              "      background-color: #434B5C;\n",
              "      box-shadow: 0px 1px 3px 1px rgba(0, 0, 0, 0.15);\n",
              "      filter: drop-shadow(0px 1px 2px rgba(0, 0, 0, 0.3));\n",
              "      fill: #FFFFFF;\n",
              "    }\n",
              "  </style>\n",
              "\n",
              "    <script>\n",
              "      const buttonEl =\n",
              "        document.querySelector('#df-e84fff3d-5078-4ff3-b316-f1fa26f547e5 button.colab-df-convert');\n",
              "      buttonEl.style.display =\n",
              "        google.colab.kernel.accessAllowed ? 'block' : 'none';\n",
              "\n",
              "      async function convertToInteractive(key) {\n",
              "        const element = document.querySelector('#df-e84fff3d-5078-4ff3-b316-f1fa26f547e5');\n",
              "        const dataTable =\n",
              "          await google.colab.kernel.invokeFunction('convertToInteractive',\n",
              "                                                    [key], {});\n",
              "        if (!dataTable) return;\n",
              "\n",
              "        const docLinkHtml = 'Like what you see? Visit the ' +\n",
              "          '<a target=\"_blank\" href=https://colab.research.google.com/notebooks/data_table.ipynb>data table notebook</a>'\n",
              "          + ' to learn more about interactive tables.';\n",
              "        element.innerHTML = '';\n",
              "        dataTable['output_type'] = 'display_data';\n",
              "        await google.colab.output.renderOutput(dataTable, element);\n",
              "        const docLink = document.createElement('div');\n",
              "        docLink.innerHTML = docLinkHtml;\n",
              "        element.appendChild(docLink);\n",
              "      }\n",
              "    </script>\n",
              "  </div>\n",
              "\n",
              "\n",
              "    </div>\n",
              "  </div>\n"
            ],
            "application/vnd.google.colaboratory.intrinsic+json": {
              "type": "dataframe",
              "variable_name": "pvals_df"
            }
          },
          "metadata": {},
          "execution_count": 27
        }
      ]
    },
    {
      "cell_type": "code",
      "source": [
        "# prompt: save pvals_df to csv\n",
        "\n",
        "pvals_df.to_csv('pvals_df.csv', index=False)"
      ],
      "metadata": {
        "colab": {
          "base_uri": "https://localhost:8080/",
          "height": 17
        },
        "id": "zSHlrZUZOW5r",
        "outputId": "151ece19-5945-428d-ed9e-353d55f2bf46"
      },
      "execution_count": null,
      "outputs": [
        {
          "output_type": "display_data",
          "data": {
            "text/plain": [
              "<IPython.core.display.HTML object>"
            ],
            "text/html": [
              "\n",
              "            <style>\n",
              "                .geemap-dark {\n",
              "                    --jp-widgets-color: white;\n",
              "                    --jp-widgets-label-color: white;\n",
              "                    --jp-ui-font-color1: white;\n",
              "                    --jp-layout-color2: #454545;\n",
              "                    background-color: #383838;\n",
              "                }\n",
              "\n",
              "                .geemap-dark .jupyter-button {\n",
              "                    --jp-layout-color3: #383838;\n",
              "                }\n",
              "\n",
              "                .geemap-colab {\n",
              "                    background-color: var(--colab-primary-surface-color, white);\n",
              "                }\n",
              "\n",
              "                .geemap-colab .jupyter-button {\n",
              "                    --jp-layout-color3: var(--colab-primary-surface-color, white);\n",
              "                }\n",
              "            </style>\n",
              "            "
            ]
          },
          "metadata": {}
        }
      ]
    },
    {
      "cell_type": "code",
      "execution_count": null,
      "metadata": {
        "id": "H3K-knJnC65R",
        "colab": {
          "base_uri": "https://localhost:8080/",
          "height": 104
        },
        "outputId": "8958f966-497e-4939-8628-b3f0cd0cb9c5"
      },
      "outputs": [
        {
          "output_type": "display_data",
          "data": {
            "text/plain": [
              "<IPython.core.display.HTML object>"
            ],
            "text/html": [
              "\n",
              "            <style>\n",
              "                .geemap-dark {\n",
              "                    --jp-widgets-color: white;\n",
              "                    --jp-widgets-label-color: white;\n",
              "                    --jp-ui-font-color1: white;\n",
              "                    --jp-layout-color2: #454545;\n",
              "                    background-color: #383838;\n",
              "                }\n",
              "\n",
              "                .geemap-dark .jupyter-button {\n",
              "                    --jp-layout-color3: #383838;\n",
              "                }\n",
              "\n",
              "                .geemap-colab {\n",
              "                    background-color: var(--colab-primary-surface-color, white);\n",
              "                }\n",
              "\n",
              "                .geemap-colab .jupyter-button {\n",
              "                    --jp-layout-color3: var(--colab-primary-surface-color, white);\n",
              "                }\n",
              "            </style>\n",
              "            "
            ]
          },
          "metadata": {}
        },
        {
          "output_type": "stream",
          "name": "stdout",
          "text": [
            "Index(['TCC', 'aspect', 'b1', 'b10', 'b11', 'b12', 'b13', 'b14', 'b15', 'b16',\n",
            "       'b17', 'b18', 'b19', 'b2', 'b3', 'b4', 'b5', 'b6', 'b7', 'b8', 'b9',\n",
            "       'elevation', 'hillshade', 'landsat_ndmi', 'modis_burned_area',\n",
            "       'modis_ndvi', 'slope'],\n",
            "      dtype='object')\n"
          ]
        }
      ],
      "source": [
        "# Displaying the columns\n",
        "columns = pvals_df.columns\n",
        "print(columns)"
      ]
    },
    {
      "cell_type": "markdown",
      "metadata": {
        "id": "f3YiwTb8DOzb"
      },
      "source": [
        "Calculating Spearman correlation coefficients between the given predictor variables and visualizing them in a heatmap."
      ]
    },
    {
      "cell_type": "code",
      "execution_count": null,
      "metadata": {
        "id": "vUsiR15-4tRS",
        "colab": {
          "base_uri": "https://localhost:8080/",
          "height": 17
        },
        "outputId": "f4b41a80-9ee0-4926-ad49-8d71779b89b1"
      },
      "outputs": [
        {
          "output_type": "display_data",
          "data": {
            "text/plain": [
              "<IPython.core.display.HTML object>"
            ],
            "text/html": [
              "\n",
              "            <style>\n",
              "                .geemap-dark {\n",
              "                    --jp-widgets-color: white;\n",
              "                    --jp-widgets-label-color: white;\n",
              "                    --jp-ui-font-color1: white;\n",
              "                    --jp-layout-color2: #454545;\n",
              "                    background-color: #383838;\n",
              "                }\n",
              "\n",
              "                .geemap-dark .jupyter-button {\n",
              "                    --jp-layout-color3: #383838;\n",
              "                }\n",
              "\n",
              "                .geemap-colab {\n",
              "                    background-color: var(--colab-primary-surface-color, white);\n",
              "                }\n",
              "\n",
              "                .geemap-colab .jupyter-button {\n",
              "                    --jp-layout-color3: var(--colab-primary-surface-color, white);\n",
              "                }\n",
              "            </style>\n",
              "            "
            ]
          },
          "metadata": {}
        }
      ],
      "source": [
        "def plot_correlation_heatmap(dataframe, h_size=10, show_labels=False):\n",
        "    # Calculate Spearman correlation coefficients\n",
        "    correlation_matrix = dataframe.corr(method=\"spearman\")\n",
        "\n",
        "    # Create a heatmap\n",
        "    plt.figure(figsize=(h_size, h_size-2))\n",
        "    plt.imshow(correlation_matrix, cmap='coolwarm', interpolation='nearest')\n",
        "\n",
        "    # Optionally display values on the heatmap\n",
        "    if show_labels:\n",
        "        for i in range(correlation_matrix.shape[0]):\n",
        "            for j in range(correlation_matrix.shape[1]):\n",
        "                plt.text(j, i, f\"{correlation_matrix.iloc[i, j]:.2f}\",\n",
        "                         ha='center', va='center', color='white', fontsize=8)\n",
        "\n",
        "    columns = dataframe.columns.tolist()\n",
        "    plt.xticks(range(len(columns)), columns, rotation=90)\n",
        "    plt.yticks(range(len(columns)), columns)\n",
        "    plt.title(\"Variables Correlation Matrix\")\n",
        "    plt.colorbar(label=\"Spearman Correlation\")\n",
        "    plt.savefig('correlation_heatmap_plot.png')\n",
        "    plt.show()"
      ]
    },
    {
      "cell_type": "code",
      "execution_count": null,
      "metadata": {
        "id": "DP5ect8cDb7C",
        "colab": {
          "base_uri": "https://localhost:8080/",
          "height": 821
        },
        "outputId": "17df27fe-9f29-4aba-f102-44306276360e"
      },
      "outputs": [
        {
          "output_type": "display_data",
          "data": {
            "text/plain": [
              "<IPython.core.display.HTML object>"
            ],
            "text/html": [
              "\n",
              "            <style>\n",
              "                .geemap-dark {\n",
              "                    --jp-widgets-color: white;\n",
              "                    --jp-widgets-label-color: white;\n",
              "                    --jp-ui-font-color1: white;\n",
              "                    --jp-layout-color2: #454545;\n",
              "                    background-color: #383838;\n",
              "                }\n",
              "\n",
              "                .geemap-dark .jupyter-button {\n",
              "                    --jp-layout-color3: #383838;\n",
              "                }\n",
              "\n",
              "                .geemap-colab {\n",
              "                    background-color: var(--colab-primary-surface-color, white);\n",
              "                }\n",
              "\n",
              "                .geemap-colab .jupyter-button {\n",
              "                    --jp-layout-color3: var(--colab-primary-surface-color, white);\n",
              "                }\n",
              "            </style>\n",
              "            "
            ]
          },
          "metadata": {}
        },
        {
          "output_type": "display_data",
          "data": {
            "text/plain": [
              "<Figure size 1000x800 with 2 Axes>"
            ],
            "image/png": "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\n"
          },
          "metadata": {}
        }
      ],
      "source": [
        "# Plot the correlation heatmap of variables\n",
        "plot_correlation_heatmap(pvals_df)"
      ]
    },
    {
      "cell_type": "markdown",
      "metadata": {
        "id": "07B62CNfDyGz"
      },
      "source": [
        "Spearman correlation coefficient is useful for understanding the general associations among predictor variables but does not directly assess how multiple variables interact, specifically detecting multicollinearity.\n",
        "\n",
        "The **Variance Inflation Factor (VIF below)** is a statistical metric used to evaluate multicollinearity and guide variable selection. It indicates the degree of linear relationship of each independent variable with the other independent variables, and high VIF values can be evidence of multicollinearity.\n",
        "\n",
        "Typically, when VIF values exceed 5 or 10, it suggests that the variable has a strong correlation with other variables, potentially compromising the stability and interpretability of the model. In this tutorial, a criterion of VIF values less than 10 was used for variable selection. The following 6 variables were selected based on VIF."
      ]
    },
    {
      "cell_type": "code",
      "execution_count": null,
      "metadata": {
        "id": "TJdGzd3SDisO",
        "colab": {
          "base_uri": "https://localhost:8080/",
          "height": 17
        },
        "outputId": "e0391085-5de1-4555-813e-59b4ea5bb4ec"
      },
      "outputs": [
        {
          "output_type": "display_data",
          "data": {
            "text/plain": [
              "<IPython.core.display.HTML object>"
            ],
            "text/html": [
              "\n",
              "            <style>\n",
              "                .geemap-dark {\n",
              "                    --jp-widgets-color: white;\n",
              "                    --jp-widgets-label-color: white;\n",
              "                    --jp-ui-font-color1: white;\n",
              "                    --jp-layout-color2: #454545;\n",
              "                    background-color: #383838;\n",
              "                }\n",
              "\n",
              "                .geemap-dark .jupyter-button {\n",
              "                    --jp-layout-color3: #383838;\n",
              "                }\n",
              "\n",
              "                .geemap-colab {\n",
              "                    background-color: var(--colab-primary-surface-color, white);\n",
              "                }\n",
              "\n",
              "                .geemap-colab .jupyter-button {\n",
              "                    --jp-layout-color3: var(--colab-primary-surface-color, white);\n",
              "                }\n",
              "            </style>\n",
              "            "
            ]
          },
          "metadata": {}
        }
      ],
      "source": [
        "# Filter variables based on Variance Inflation Factor (VIF)\n",
        "def filter_variables_by_vif(dataframe, threshold=5):\n",
        "\n",
        "    original_columns = dataframe.columns.tolist()\n",
        "    remaining_columns = original_columns[:]\n",
        "\n",
        "    while True:\n",
        "        vif_data = dataframe[remaining_columns]\n",
        "        vif_values = [\n",
        "            variance_inflation_factor(vif_data.values, i)\n",
        "            for i in range(vif_data.shape[1])\n",
        "        ]\n",
        "\n",
        "        max_vif_index = vif_values.index(max(vif_values))\n",
        "        max_vif = max(vif_values)\n",
        "\n",
        "        if max_vif < threshold:\n",
        "            break\n",
        "\n",
        "        print(f\"Removing '{remaining_columns[max_vif_index]}' with VIF {max_vif:.2f}\")\n",
        "\n",
        "        del remaining_columns[max_vif_index]\n",
        "\n",
        "    filtered_data = dataframe[remaining_columns]\n",
        "    bands = filtered_data.columns.tolist()\n",
        "    print(\"Bands:\", bands)\n",
        "\n",
        "    return filtered_data, bands"
      ]
    },
    {
      "cell_type": "code",
      "execution_count": null,
      "metadata": {
        "id": "e3iiKaK5Eg0q",
        "colab": {
          "base_uri": "https://localhost:8080/",
          "height": 329
        },
        "outputId": "a1e09997-f930-45ad-af14-dae0b8f588b1"
      },
      "outputs": [
        {
          "output_type": "display_data",
          "data": {
            "text/plain": [
              "<IPython.core.display.HTML object>"
            ],
            "text/html": [
              "\n",
              "            <style>\n",
              "                .geemap-dark {\n",
              "                    --jp-widgets-color: white;\n",
              "                    --jp-widgets-label-color: white;\n",
              "                    --jp-ui-font-color1: white;\n",
              "                    --jp-layout-color2: #454545;\n",
              "                    background-color: #383838;\n",
              "                }\n",
              "\n",
              "                .geemap-dark .jupyter-button {\n",
              "                    --jp-layout-color3: #383838;\n",
              "                }\n",
              "\n",
              "                .geemap-colab {\n",
              "                    background-color: var(--colab-primary-surface-color, white);\n",
              "                }\n",
              "\n",
              "                .geemap-colab .jupyter-button {\n",
              "                    --jp-layout-color3: var(--colab-primary-surface-color, white);\n",
              "                }\n",
              "            </style>\n",
              "            "
            ]
          },
          "metadata": {}
        },
        {
          "output_type": "stream",
          "name": "stdout",
          "text": [
            "Removing 'b5' with VIF 750599937895082.62\n",
            "Removing 'b10' with VIF 145547.49\n",
            "Removing 'b7' with VIF 59480.92\n",
            "Removing 'b1' with VIF 14826.49\n",
            "Removing 'b16' with VIF 8232.70\n",
            "Removing 'b19' with VIF 3080.95\n",
            "Removing 'b9' with VIF 2943.29\n",
            "Removing 'b11' with VIF 2121.92\n",
            "Removing 'b3' with VIF 1084.62\n",
            "Removing 'b13' with VIF 997.69\n",
            "Removing 'b2' with VIF 277.45\n",
            "Removing 'b17' with VIF 270.99\n",
            "Removing 'b15' with VIF 211.35\n",
            "Removing 'hillshade' with VIF 141.03\n",
            "Removing 'b18' with VIF 127.58\n",
            "Removing 'modis_ndvi' with VIF 62.72\n",
            "Removing 'b8' with VIF 54.39\n",
            "Bands: ['TCC', 'aspect', 'b12', 'b14', 'b4', 'b6', 'elevation', 'landsat_ndmi', 'modis_burned_area', 'slope']\n"
          ]
        }
      ],
      "source": [
        "filtered_pvals_df, bands = filter_variables_by_vif(pvals_df)"
      ]
    },
    {
      "cell_type": "code",
      "execution_count": null,
      "metadata": {
        "id": "TEFmil6WErkl",
        "colab": {
          "base_uri": "https://localhost:8080/",
          "height": 513
        },
        "outputId": "dc6133ce-561b-4a32-89bb-1391392d9633"
      },
      "outputs": [
        {
          "output_type": "display_data",
          "data": {
            "text/plain": [
              "<IPython.core.display.HTML object>"
            ],
            "text/html": [
              "\n",
              "            <style>\n",
              "                .geemap-dark {\n",
              "                    --jp-widgets-color: white;\n",
              "                    --jp-widgets-label-color: white;\n",
              "                    --jp-ui-font-color1: white;\n",
              "                    --jp-layout-color2: #454545;\n",
              "                    background-color: #383838;\n",
              "                }\n",
              "\n",
              "                .geemap-dark .jupyter-button {\n",
              "                    --jp-layout-color3: #383838;\n",
              "                }\n",
              "\n",
              "                .geemap-colab {\n",
              "                    background-color: var(--colab-primary-surface-color, white);\n",
              "                }\n",
              "\n",
              "                .geemap-colab .jupyter-button {\n",
              "                    --jp-layout-color3: var(--colab-primary-surface-color, white);\n",
              "                }\n",
              "            </style>\n",
              "            "
            ]
          },
          "metadata": {}
        },
        {
          "output_type": "display_data",
          "data": {
            "text/plain": [
              "<Figure size 600x400 with 2 Axes>"
            ],
            "image/png": "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\n"
          },
          "metadata": {}
        }
      ],
      "source": [
        "# Variable Selection Based on VIF\n",
        "predictors = predictors.select(bands)\n",
        "\n",
        "# Plot the correlation heatmap of variables\n",
        "plot_correlation_heatmap(filtered_pvals_df, h_size=6, show_labels=True)"
      ]
    },
    {
      "cell_type": "code",
      "execution_count": null,
      "metadata": {
        "id": "hMnMjWpOYG_B",
        "colab": {
          "base_uri": "https://localhost:8080/",
          "height": 17
        },
        "outputId": "3b7915ca-f3e0-47c4-c8f9-1c439accac9a"
      },
      "outputs": [
        {
          "output_type": "display_data",
          "data": {
            "text/plain": [
              "<IPython.core.display.HTML object>"
            ],
            "text/html": [
              "\n",
              "            <style>\n",
              "                .geemap-dark {\n",
              "                    --jp-widgets-color: white;\n",
              "                    --jp-widgets-label-color: white;\n",
              "                    --jp-ui-font-color1: white;\n",
              "                    --jp-layout-color2: #454545;\n",
              "                    background-color: #383838;\n",
              "                }\n",
              "\n",
              "                .geemap-dark .jupyter-button {\n",
              "                    --jp-layout-color3: #383838;\n",
              "                }\n",
              "\n",
              "                .geemap-colab {\n",
              "                    background-color: var(--colab-primary-surface-color, white);\n",
              "                }\n",
              "\n",
              "                .geemap-colab .jupyter-button {\n",
              "                    --jp-layout-color3: var(--colab-primary-surface-color, white);\n",
              "                }\n",
              "            </style>\n",
              "            "
            ]
          },
          "metadata": {}
        }
      ],
      "source": [
        "# Randomly select 100 locations for occurrence\n",
        "pvals = predictors.sampleRegions(\n",
        "    collection=data.randomColumn().sort('random').limit(100),\n",
        "    properties=[],\n",
        "    scale=grain_size\n",
        ")\n",
        "\n",
        "# Perform k-means clustering\n",
        "clusterer = ee.Clusterer.wekaKMeans(\n",
        "    nClusters=2,\n",
        "    distanceFunction=\"Euclidean\"\n",
        ").train(pvals)\n",
        "\n",
        "cl_result = predictors.cluster(clusterer)\n",
        "\n",
        "# Get cluster ID for locations similar to occurrence\n",
        "cl_id = cl_result.sampleRegions(\n",
        "    collection=data.randomColumn().sort('random').limit(200),\n",
        "    properties=[],\n",
        "    scale=grain_size\n",
        ")\n",
        "\n",
        "# Define non-occurrence areas in dissimilar clusters\n",
        "cl_id = ee.FeatureCollection(cl_id).reduceColumns(ee.Reducer.mode(),['cluster'])\n",
        "cl_id = ee.Number(cl_id.get('mode')).subtract(1).abs()\n",
        "cl_mask = cl_result.select(['cluster']).eq(cl_id)"
      ]
    },
    {
      "cell_type": "code",
      "execution_count": null,
      "metadata": {
        "id": "Z6sGrkHGYWat",
        "colab": {
          "base_uri": "https://localhost:8080/",
          "height": 421,
          "referenced_widgets": [
            "279e340342ad4c108da1105b9eb56047",
            "d4cad544fb30439d85c510c8ac653d6a",
            "f24d97f43fcb4a1791e0cc77cacadb49",
            "d5c6c3b8c30e4c27ac8ab7fc0d220335",
            "d4e9548b6aa84006a77ce2ebe3e290e5",
            "7d430e1366164eabb0ca2a091d13a150",
            "34fd36d9cd754db5828a490de1490b93",
            "f192429f1cb64491955b4a10c4de08c3",
            "48ffb846a9444132aceaca910afcd045",
            "2bc427f4fc08413886a93cf2bc421eff",
            "42e822685627493eaefef0241928acf7",
            "36d36f143c254a4fb1c420214faacf1b",
            "026c33f48a0a4bb58df4c9a8836b465a",
            "3e3992cdbbd742a6b0e69d9fa1533cd4",
            "fd9471dd82a24e49bb344f363f2bfe44",
            "a4d6c41272cd4a22b830550a29d91dcc",
            "e163bf90cda144d9b657cb8c2cd2e2c7",
            "4a58d05416b64f758678cc5fde75ddb0",
            "0b3598c4e67544cb89c611a6a3057a83",
            "c11d14c8ae174e91aa9db77355d5050a",
            "7425cd9474ed43348932743972970310",
            "5e2d08d4e9f54fe8a818d9eb8db14a8b",
            "cce2a0b736564336ad719ff88e08662d",
            "41f4801c7f1b450c88d3d22d084b6cd3",
            "d7153b281c5445a2abd0181174c2f443",
            "91bd191fbb7c40e991eb7d21155cf9ff",
            "b5ef7c419fbf427f8f268d9112568a07",
            "591552d87a99484eafc7b08888abf4b0",
            "34b5506ced93481797a2271a75e68fee",
            "4fa43f74df8545a1aa4905d980aedafd",
            "64becca33eaf4c918fde76c4cdf6e6a8",
            "1eed9bdcc96543ab89066486e1911791",
            "d7a36cdc42634cc9b1332a277de012b3",
            "3efcd0d4c2334e749de22c6a394b101e",
            "298e160929cf4f429054add89e628bfd",
            "e7520eb7d8c048aba5df23669afd27a2",
            "1ade0aec9e8c4a08a6f4c901bc9a0760",
            "4931c086c8f646feb4a1863cea888eff",
            "24771127636e4369bc8dc6ec2841a1e8",
            "8e46e9e3a32b41e79c9dd1dcd75e7618",
            "5d61ba2033f543dab10e86dc2d5d4551",
            "3a88a557c2a842d58370f844bf3f9ffa",
            "218f04c348d043d09f26fc806ff03bff",
            "ddc0a891968f43b0996a8bfa9d5f9f4d",
            "5c5494e19ded4cafb97754fb3379cdf2",
            "0a8ac19534ca454a916a988f6adae390",
            "3178668537084a338bacc9d65b51cc58",
            "512cd09c6d84424aa5eb9121c0a49a2d",
            "62239d4e26784fcc89544f293a0a519c",
            "cb0f5188eb694112916cd9603eabbc66",
            "8bf5a56f999f4edbb3be7da35b4cd1f8",
            "f1f4af33f1744f9bae825fb5e4dde06c",
            "4adb6fbce7654dc98f839e24fe2be59d",
            "95e14011075840b8a379c72964dd5a9e",
            "eee5095028fe4c05ab3a745d24a5bbde",
            "2709329e2b99471ea672dfdf99c83aef",
            "abced8915e2342f1ab5595c8a64d1cc0",
            "6a5b8601e24f441fb72b0b4758416320",
            "3f30769eaffc42fe8e4d185a119985be",
            "0c6f8b652b3042e49bb87410529582d7",
            "1059b42c41bd47dbaaa8a9f61738de7b",
            "982e6bf1376a4f558318bdfbc224d5e7",
            "5a2143e524014b9784bf9c3befe1dbee",
            "52207b7b5b55489eaee3976fdc19c6d8",
            "ed24cdaa168c4f3c81fb15f81a20fb64",
            "9029f72ed43c44cea1430386e6b28599",
            "57ecde947dff44dfbba2be6f711f39ef",
            "532c2c2fa89f4eb1a8023c6b6fbd1aae",
            "abc4c56b06d846d8a1d4e263b51dcd9c",
            "7b96d718c3194f06a8c067dad140b771",
            "169d47c5b1a24ec394e4c3feda3e0e6b",
            "44a72b6016e8423ab8ffd38aba94e4ad",
            "c079aa1d189e4658b9b738b0d2ce0ce5",
            "49ba6696725f47b0b52073b744ef87e1",
            "3c64dbb2d8064d68bef203e43dc14ec3"
          ]
        },
        "outputId": "3e438876-9fc1-4044-b398-6f1e998fc4a6"
      },
      "outputs": [
        {
          "output_type": "display_data",
          "data": {
            "text/plain": [
              "<IPython.core.display.HTML object>"
            ],
            "text/html": [
              "\n",
              "            <style>\n",
              "                .geemap-dark {\n",
              "                    --jp-widgets-color: white;\n",
              "                    --jp-widgets-label-color: white;\n",
              "                    --jp-ui-font-color1: white;\n",
              "                    --jp-layout-color2: #454545;\n",
              "                    background-color: #383838;\n",
              "                }\n",
              "\n",
              "                .geemap-dark .jupyter-button {\n",
              "                    --jp-layout-color3: #383838;\n",
              "                }\n",
              "\n",
              "                .geemap-colab {\n",
              "                    background-color: var(--colab-primary-surface-color, white);\n",
              "                }\n",
              "\n",
              "                .geemap-colab .jupyter-button {\n",
              "                    --jp-layout-color3: var(--colab-primary-surface-color, white);\n",
              "                }\n",
              "            </style>\n",
              "            "
            ]
          },
          "metadata": {}
        },
        {
          "output_type": "display_data",
          "data": {
            "text/plain": [
              "Map(center=[35.86566467022178, -120.20805976638766], controls=(WidgetControl(options=['position', 'transparent…"
            ],
            "application/vnd.jupyter.widget-view+json": {
              "version_major": 2,
              "version_minor": 0,
              "model_id": "279e340342ad4c108da1105b9eb56047"
            }
          },
          "metadata": {
            "application/vnd.jupyter.widget-view+json": {
              "colab": {
                "custom_widget_manager": {
                  "url": "https://ssl.gstatic.com/colaboratory-static/widgets/colab-cdn-widget-manager/2b70e893a8ba7c0f/manager.min.js"
                }
              }
            }
          }
        }
      ],
      "source": [
        "# Presence location mask\n",
        "presence_mask = data.reduceToImage(properties=['random'],\n",
        "reducer=ee.Reducer.first()\n",
        ").reproject('EPSG:4326', None,\n",
        "            grain_size).mask().neq(1).selfMask()\n",
        "\n",
        "# Masking presence locations in non-occurrence areas and clipping to AOI\n",
        "area_for_pa = presence_mask.updateMask(cl_mask).clip(aoi)\n",
        "\n",
        "# Area for Pseudo-absence\n",
        "Map = geemap.Map(layout={'height':'400px', 'width':'800px'})\n",
        "Map.addLayer(area_for_pa, {'palette': 'black'}, 'AreaForPA')\n",
        "Map.centerObject(aoi, 6)\n",
        "Map"
      ]
    },
    {
      "cell_type": "markdown",
      "metadata": {
        "id": "iTWaV5fQZPgA"
      },
      "source": [
        "### Model fitting and prediction\n",
        "\n",
        "We will now divide the data into training data and test data. The training data will be used to find the optimal parameters by training the model, while the test data will be used to evaluate the model trained beforehand. An important concept to consider in this context is spatial autocorrelation.\n",
        "\n",
        "**Spatial autocorrelation** is an essential element in SDM, associated with Tobler's law. It embodies the concept that \"everything is related to everything else, but near things are more related than distant things\". Spatial autocorrelation represents the significant relationship between the location of species and environmental variables. However, if spatial autocorrelation exists between the training and test data, the independence between the two data sets can be compromised. This significantly impacts the evaluation of the model's generalization ability.\n",
        "\n",
        "One method to address this issue is the spatial block cross-validation technique, which involves dividing the data into training and testing datasets. This technique involves dividing the data into multiple blocks, using each block independently as training and test datasets to reduce the impact of spatial autocorrelation. This enhances the independence between datasets, allowing for a more accurate evaluation of the model's generalization ability.\n",
        "\n",
        "The specific procedure is as follows:\n",
        "1. Creation of spatial blocks: Divide the entire dataset into spatial blocks of equal size (e.g., 50x50 km).\n",
        "2. Assignment of training and testing sets: Each spatial block is randomly assigned to either the training set (70%) or the test set (30%). This prevents the model from overfitting to data from specific areas and aims to achieve more generalized results.\n",
        "3. Iterative cross-validation: The entire process is repeated n times (e.g., 10 times). In each iteration, the blocks are randomly divided into training and test sets again, which is intended to improve the model's stability and reliability.\n",
        "4. Generation of pseudo-absence data: In each iteration, pseudo-absence data are randomly generated to evaluate the model's performance."
      ]
    },
    {
      "cell_type": "code",
      "execution_count": null,
      "metadata": {
        "id": "HASln4gfb1pZ",
        "colab": {
          "base_uri": "https://localhost:8080/",
          "height": 421,
          "referenced_widgets": [
            "6be1216b6d7e47de97bf553794b8ba1d",
            "aeadbd0f27e2400b9abcf416dee322dc",
            "ab541cd52dc8477690c8b4e677000d43",
            "40673a16c83b406ba7b19a2e35f32d2d",
            "f328b10f48b84aa1b4d5861e91c88620",
            "50675e18759a4a999b259ac8dec3bb36",
            "c65bbb7608e243d0b01077216b66ea63",
            "aa7c4f488a95433e90a1b12e04d251ee",
            "8c0643154ec14536a76ec2a519718f5c",
            "0989ece9f5a24a9d97a7acb4cb655ca1",
            "cac02a2d574242e69aeeaa0bf58517a4",
            "752e5e1da720477ea76ed59d7827fd7d",
            "2a8739a371974a5e8f0ec8fad71f2e76",
            "49435c8e956d4fe58d73b08a2f66d266",
            "6009863523cd4183b719dbe3032b3dd2",
            "704f6ff7166541e98972c146fbfe13e0",
            "8dacb34439844e3aa068fc44da36b4bb",
            "0ce4b305326a4e9aa5cdb525a2e16cd9",
            "1cf257e3c7734baab4f20262548e36f2",
            "19222dd034e1428c90eb47afb9fe8902",
            "64ed872be89b4697a6bc4ee0c1da2cb0",
            "4cfe44daab7b44d5b27010c6fd093dea",
            "d09c2d066b3043a0b4d6631d34194fe5",
            "919c78a0b36744328bf6e153dad3e336",
            "6f53195c4bf3459bbdd72aaac6a12ce4",
            "a14810e9050e404d95f5a955a1719862",
            "5f041b565aec40a4abcd973abd73f79b",
            "b743b31c5a9544418f0f91ebe6a88fd1",
            "156c0fb1c95d40e49abf33ab04215cdc",
            "86419fc0a3ba46fb8ead997ee3a8d3fc",
            "2568883d5b4940f3b00a1338bc6d113b",
            "2552418e27e54ca7b6cb23869dac217e",
            "592060f2af8c42e0bc63ef23ffef4415",
            "0183e904e78941529dac21d851ce83d8",
            "312b1dc6e7cc4235a2551a869b5e58e2",
            "620d6d378aa44738bd73cc9c810df4eb",
            "c995b6914c164ec4b8d165ac1411d4c2",
            "00e9ec22f4654ed59e8250d9c2583917",
            "11098f52dbd747ee82962c63342e7df7",
            "7504b90405b34e95b3b926ba963c4bdc",
            "bfa9417739614243bb84b2a26802446e",
            "843300de5dae4adc90b3b1099feded08",
            "36343449cd804282b65cd4f4289ee991",
            "02da0dadb11246efb9944f02197978fd",
            "e308d76a542d434599bf10ba1696d2c0",
            "60f5de85fd0b4c6ea6eac31de05e78e1",
            "10be4110885a402eb2ee14a44afc6556",
            "53b5f0b1194a43018c11008deb31ac62",
            "45b7cf07241b48108f091d7c6409abb0",
            "79c9bd5b145c442da54b2c8457b4233c",
            "9df1dcbd612e45948baabfc23c929e45",
            "f1616fdebf074b9b92aa42da1fb5a3a3",
            "197926f2694243e8a600550a82cd0226",
            "3e1ce8d98877452698e420159257685a",
            "6e60846ea81d4d0a88b4e0ac40e1e4db",
            "3edfc416c38240a6963d6017c4ed4018",
            "6e0e8b791ef74526a92b4ea4541c064e",
            "ee49faa3a41448a8ab60c7ef1ec00ef8",
            "71edf78b006d40aba4b260639ecf9c1f",
            "2527996ec17e489aab96bb487f1c6551",
            "7b6f8e8d390b4eeba33d966a2b5f3b09",
            "bcfa211bc55e45eb88ddd3ae9d83b1df",
            "6b31167389c247989df81b4869a85f18",
            "d662138afba444c2b648eda3315e0b49",
            "1bc4afb0b28f4a5b977433d38e1649d0",
            "3dbaa2fd3b4e404a97943392b285f9c1",
            "0cbb648e765f4f069bab423bccf2f209",
            "fd7c2f804b0846199e51292f781ec980",
            "502853e4eaea441eab0c3da840f56815",
            "081be812cb9041958964567efab3e149",
            "722bc9d828c24feeb115ee119ab022a6",
            "6edc3a1f6b3e42069e01a21b447561b1",
            "384c5139a86b4250a3e2a7b01e0f7dd5",
            "f2816181be324073b4accaa885abc141",
            "73a7ee42bdb6439fa8c08c75d3c1a8b5",
            "fbb85d031f594e9494cd7e4ef7f33799",
            "6df3b6d25f6e44088475715cadeaed5c",
            "1bd6031664194c26976b882ee1ba54a6",
            "0d2cda55953b431588ad9bfa03cddb51",
            "1d27749e76a444c4bd0129798fbb7b0e",
            "a90d94cec9f74a2e8bbcd55826f312b0",
            "ce0ed74588bf4467a2f534fa579ae439",
            "fe9c51dd2cd946a0b2dd07552d606511",
            "bceb7582b23d45fb8cf78247278c1c73",
            "00defe0200874c75aff1efeac373279a",
            "1964548058ef4927bd5e9faf083a59d6",
            "e473cc36c4e14f96b23aedb04156d63f",
            "d14d6046288d4689b5d034e75f06c739",
            "68a6ae6ab2ce427b8d7a3a6a888215df",
            "9775eff517564442914e08862a369eda"
          ]
        },
        "outputId": "ac99f21d-ef7c-440e-bb84-3f090bb15dc6"
      },
      "outputs": [
        {
          "output_type": "display_data",
          "data": {
            "text/plain": [
              "<IPython.core.display.HTML object>"
            ],
            "text/html": [
              "\n",
              "            <style>\n",
              "                .geemap-dark {\n",
              "                    --jp-widgets-color: white;\n",
              "                    --jp-widgets-label-color: white;\n",
              "                    --jp-ui-font-color1: white;\n",
              "                    --jp-layout-color2: #454545;\n",
              "                    background-color: #383838;\n",
              "                }\n",
              "\n",
              "                .geemap-dark .jupyter-button {\n",
              "                    --jp-layout-color3: #383838;\n",
              "                }\n",
              "\n",
              "                .geemap-colab {\n",
              "                    background-color: var(--colab-primary-surface-color, white);\n",
              "                }\n",
              "\n",
              "                .geemap-colab .jupyter-button {\n",
              "                    --jp-layout-color3: var(--colab-primary-surface-color, white);\n",
              "                }\n",
              "            </style>\n",
              "            "
            ]
          },
          "metadata": {}
        },
        {
          "output_type": "display_data",
          "data": {
            "text/plain": [
              "Map(center=[35.86566467022178, -120.20805976638766], controls=(WidgetControl(options=['position', 'transparent…"
            ],
            "application/vnd.jupyter.widget-view+json": {
              "version_major": 2,
              "version_minor": 0,
              "model_id": "6be1216b6d7e47de97bf553794b8ba1d"
            }
          },
          "metadata": {
            "application/vnd.jupyter.widget-view+json": {
              "colab": {
                "custom_widget_manager": {
                  "url": "https://ssl.gstatic.com/colaboratory-static/widgets/colab-cdn-widget-manager/2b70e893a8ba7c0f/manager.min.js"
                }
              }
            }
          }
        }
      ],
      "source": [
        "Scale = 50000\n",
        "grid = watermask.reduceRegions(\n",
        "    collection=aoi.coveringGrid(scale=Scale, proj='EPSG:4326'),\n",
        "    reducer=ee.Reducer.mean()).filter(ee.Filter.neq('mean', None))\n",
        "\n",
        "Map = geemap.Map(layout={'height':'400px', 'width':'800px'})\n",
        "Map.addLayer(grid, {}, \"Grid for spatial block cross validation\")\n",
        "Map.addLayer(outline, {'palette': 'FF0000'}, \"Study Area\")\n",
        "Map.centerObject(aoi, 6)\n",
        "Map"
      ]
    },
    {
      "cell_type": "markdown",
      "metadata": {
        "id": "EsPbyMZ-cJg2"
      },
      "source": [
        "Now we can fit the model. Fitting a model involves understanding the patterns in the data and adjusting the model's parameters (weights and biases) accordingly. This process enables the model to make more accurate predictions when presented with new data. For this purpose, we have defined a function called SDM() to fit the model.\n",
        "\n",
        "We will use the **Random Forest** algorithm."
      ]
    },
    {
      "cell_type": "code",
      "execution_count": null,
      "metadata": {
        "id": "89R79JvGb6c8",
        "colab": {
          "base_uri": "https://localhost:8080/",
          "height": 17
        },
        "outputId": "36ae0e74-0377-4972-bd6b-9e761b12c34c"
      },
      "outputs": [
        {
          "output_type": "display_data",
          "data": {
            "text/plain": [
              "<IPython.core.display.HTML object>"
            ],
            "text/html": [
              "\n",
              "            <style>\n",
              "                .geemap-dark {\n",
              "                    --jp-widgets-color: white;\n",
              "                    --jp-widgets-label-color: white;\n",
              "                    --jp-ui-font-color1: white;\n",
              "                    --jp-layout-color2: #454545;\n",
              "                    background-color: #383838;\n",
              "                }\n",
              "\n",
              "                .geemap-dark .jupyter-button {\n",
              "                    --jp-layout-color3: #383838;\n",
              "                }\n",
              "\n",
              "                .geemap-colab {\n",
              "                    background-color: var(--colab-primary-surface-color, white);\n",
              "                }\n",
              "\n",
              "                .geemap-colab .jupyter-button {\n",
              "                    --jp-layout-color3: var(--colab-primary-surface-color, white);\n",
              "                }\n",
              "            </style>\n",
              "            "
            ]
          },
          "metadata": {}
        }
      ],
      "source": [
        "def sdm(x):\n",
        "    seed = ee.Number(x)\n",
        "\n",
        "    # Random block division for training and validation\n",
        "    rand_blk = ee.FeatureCollection(grid).randomColumn(seed=seed).sort(\"random\")\n",
        "    training_grid = rand_blk.filter(ee.Filter.lt(\"random\", split))  # Grid for training\n",
        "    testing_grid = rand_blk.filter(ee.Filter.gte(\"random\", split))  # Grid for testing\n",
        "\n",
        "    # Presence points\n",
        "    presence_points = ee.FeatureCollection(data)\n",
        "    presence_points = presence_points.map(lambda feature: feature.set(\"PresAbs\", 1))\n",
        "    tr_presence_points = presence_points.filter(\n",
        "        ee.Filter.bounds(training_grid)\n",
        "    )  # Presence points for training\n",
        "    te_presence_points = presence_points.filter(\n",
        "        ee.Filter.bounds(testing_grid)\n",
        "    )  # Presence points for testing\n",
        "\n",
        "    # Pseudo-absence points for training\n",
        "    tr_pseudo_abs_points = area_for_pa.sample(\n",
        "        region=training_grid,\n",
        "        scale=grain_size,\n",
        "        numPixels=tr_presence_points.size().add(300),\n",
        "        seed=seed,\n",
        "        geometries=True,\n",
        "    )\n",
        "    # Same number of pseudo-absence points as presence points for training\n",
        "    tr_pseudo_abs_points = (\n",
        "        tr_pseudo_abs_points.randomColumn()\n",
        "        .sort(\"random\")\n",
        "        .limit(ee.Number(tr_presence_points.size()))\n",
        "    )\n",
        "    tr_pseudo_abs_points = tr_pseudo_abs_points.map(lambda feature: feature.set(\"PresAbs\", 0))\n",
        "\n",
        "    te_pseudo_abs_points = area_for_pa.sample(\n",
        "        region=testing_grid,\n",
        "        scale=grain_size,\n",
        "        numPixels=te_presence_points.size().add(100),\n",
        "        seed=seed,\n",
        "        geometries=True,\n",
        "    )\n",
        "    # Same number of pseudo-absence points as presence points for testing\n",
        "    te_pseudo_abs_points = (\n",
        "        te_pseudo_abs_points.randomColumn()\n",
        "        .sort(\"random\")\n",
        "        .limit(ee.Number(te_presence_points.size()))\n",
        "    )\n",
        "    te_pseudo_abs_points = te_pseudo_abs_points.map(lambda feature: feature.set(\"PresAbs\", 0))\n",
        "\n",
        "    # Merge training and pseudo-absence points\n",
        "    training_partition = tr_presence_points.merge(tr_pseudo_abs_points)\n",
        "    testing_partition = te_presence_points.merge(te_pseudo_abs_points)\n",
        "\n",
        "    # Extract predictor variable values at training points\n",
        "    train_pvals = predictors.sampleRegions(\n",
        "        collection=training_partition,\n",
        "        properties=[\"PresAbs\"],\n",
        "        scale=grain_size,\n",
        "        geometries=True,\n",
        "    )\n",
        "\n",
        "    # Random Forest classifier\n",
        "    classifier = ee.Classifier.smileRandomForest(\n",
        "        numberOfTrees=500,\n",
        "        variablesPerSplit=None,\n",
        "        minLeafPopulation=10,\n",
        "        bagFraction=0.5,\n",
        "        maxNodes=None,\n",
        "        seed=seed,\n",
        "    )\n",
        "    # Presence probability: Habitat suitability map\n",
        "    classifier_pr = classifier.setOutputMode(\"PROBABILITY\").train(\n",
        "        train_pvals, \"PresAbs\", bands\n",
        "    )\n",
        "    classified_img_pr = predictors.select(bands).classify(classifier_pr)\n",
        "\n",
        "    # Binary presence/absence map: Potential distribution map\n",
        "    classifier_bin = classifier.setOutputMode(\"CLASSIFICATION\").train(\n",
        "        train_pvals, \"PresAbs\", bands\n",
        "    )\n",
        "    classified_img_bin = predictors.select(bands).classify(classifier_bin)\n",
        "\n",
        "    return [\n",
        "        classified_img_pr,\n",
        "        classified_img_bin,\n",
        "        training_partition,\n",
        "        testing_partition,\n",
        "    ], classifier_pr"
      ]
    },
    {
      "cell_type": "markdown",
      "metadata": {
        "id": "yCGB0Y6meW2B"
      },
      "source": [
        "Spatial blocks are divided into 70% for model training and 30% for model testing, respectively. Pseudo-absence data are randomly generated within each training and testing set in every iteration. As a result, each execution yields different sets of presence and pseudo-absence data for model training and testing."
      ]
    },
    {
      "cell_type": "code",
      "execution_count": null,
      "metadata": {
        "id": "KV6Jg50AeA7B",
        "colab": {
          "base_uri": "https://localhost:8080/",
          "height": 34
        },
        "outputId": "b2a01b3b-2bd6-456e-cbba-b1f459557741"
      },
      "outputs": [
        {
          "output_type": "display_data",
          "data": {
            "text/plain": [
              "<IPython.core.display.HTML object>"
            ],
            "text/html": [
              "\n",
              "            <style>\n",
              "                .geemap-dark {\n",
              "                    --jp-widgets-color: white;\n",
              "                    --jp-widgets-label-color: white;\n",
              "                    --jp-ui-font-color1: white;\n",
              "                    --jp-layout-color2: #454545;\n",
              "                    background-color: #383838;\n",
              "                }\n",
              "\n",
              "                .geemap-dark .jupyter-button {\n",
              "                    --jp-layout-color3: #383838;\n",
              "                }\n",
              "\n",
              "                .geemap-colab {\n",
              "                    background-color: var(--colab-primary-surface-color, white);\n",
              "                }\n",
              "\n",
              "                .geemap-colab .jupyter-button {\n",
              "                    --jp-layout-color3: var(--colab-primary-surface-color, white);\n",
              "                }\n",
              "            </style>\n",
              "            "
            ]
          },
          "metadata": {}
        },
        {
          "output_type": "execute_result",
          "data": {
            "text/plain": [
              "[521, 752, 492, 411, 570, 801, 912, 165, 306, 931]"
            ]
          },
          "metadata": {},
          "execution_count": 40
        }
      ],
      "source": [
        "split = 0.7\n",
        "numiter = 10\n",
        "\n",
        "# Random Seed\n",
        "runif = lambda length: [random.randint(1, 1000) for _ in range(length)]\n",
        "items = runif(numiter)\n",
        "\n",
        "# Fixed seed\n",
        "# items = [287, 288, 553, 226, 151, 255, 902, 267, 419, 538]\n",
        "items"
      ]
    },
    {
      "cell_type": "code",
      "execution_count": null,
      "metadata": {
        "id": "BHCnkZvveq_Q",
        "colab": {
          "base_uri": "https://localhost:8080/",
          "height": 17
        },
        "outputId": "fa5a98ce-092c-4f1d-cea9-ba850375f4e6"
      },
      "outputs": [
        {
          "output_type": "display_data",
          "data": {
            "text/plain": [
              "<IPython.core.display.HTML object>"
            ],
            "text/html": [
              "\n",
              "            <style>\n",
              "                .geemap-dark {\n",
              "                    --jp-widgets-color: white;\n",
              "                    --jp-widgets-label-color: white;\n",
              "                    --jp-ui-font-color1: white;\n",
              "                    --jp-layout-color2: #454545;\n",
              "                    background-color: #383838;\n",
              "                }\n",
              "\n",
              "                .geemap-dark .jupyter-button {\n",
              "                    --jp-layout-color3: #383838;\n",
              "                }\n",
              "\n",
              "                .geemap-colab {\n",
              "                    background-color: var(--colab-primary-surface-color, white);\n",
              "                }\n",
              "\n",
              "                .geemap-colab .jupyter-button {\n",
              "                    --jp-layout-color3: var(--colab-primary-surface-color, white);\n",
              "                }\n",
              "            </style>\n",
              "            "
            ]
          },
          "metadata": {}
        }
      ],
      "source": [
        "results_list = [] # Initialize SDM results list\n",
        "importances_list = [] # Initialize variable importance list\n",
        "\n",
        "for item in items:\n",
        "    result, trained = sdm(item)\n",
        "    # Accumulate SDM results into the list\n",
        "    results_list.extend(result)\n",
        "\n",
        "    # Accumulate variable importance into the list\n",
        "    importance = ee.Dictionary(trained.explain()).get('importance')\n",
        "    importances_list.extend(importance.getInfo().items())\n",
        "\n",
        "# Flatten the SDM results list\n",
        "results = ee.List(results_list).flatten()"
      ]
    },
    {
      "cell_type": "markdown",
      "metadata": {
        "id": "UHQ6Hx07gG2m"
      },
      "source": [
        "Now we can visualize the **habitat suitability map** and **potential distribution map** for the Fairy pitta. In this case, the habitat suitability map is created by using the `mean()` function to calculate the average for each pixel location across all images, and the potential distribution map is generated by using the `mode()` function to determine the most frequently occurring value at each pixel location across all images."
      ]
    },
    {
      "cell_type": "code",
      "source": [
        "# Habitat suitability map\n",
        "images = ee.List.sequence(\n",
        "    0, ee.Number(numiter).multiply(4).subtract(1), 4).map(\n",
        "    lambda x: results.get(x))\n",
        "model_average = ee.ImageCollection.fromImages(images).mean()\n",
        "\n",
        "Map = geemap.Map(layout={'height':'400px', 'width':'800px'}, basemap='Esri.WorldImagery')\n",
        "\n",
        "vis_params = {\n",
        "    'min': 0,\n",
        "    'max': 1,\n",
        "    'palette': cm.palettes.viridis_r}\n",
        "Map.addLayer(model_average, vis_params, 'Habitat suitability')\n",
        "Map.add_colorbar(vis_params, label=\"Habitat suitability\",\n",
        "                 orientation=\"horizontal\",\n",
        "                 layer_name=\"Habitat suitability\")\n",
        "Map.addLayer(data, {'color':'red'}, 'Presence')\n",
        "Map.centerObject(aoi, 6)\n",
        "Map"
      ],
      "metadata": {
        "colab": {
          "base_uri": "https://localhost:8080/",
          "height": 421,
          "referenced_widgets": [
            "896964310eef4d55b796803415eacd4f",
            "fdc898d3fd7d4ef2b6413317e745c8d3",
            "83361a3b226f48db9732da63943233ef",
            "91eceeb258de4e91a65aaea073a3a69f",
            "38adc9f231984bb1a301785ebcd1f7f2",
            "d169af06d425408aad8b325b2d63aae3",
            "730d28bc0cd34a19913ea3a2d6eaa94a",
            "a342a46b6734477692dd52d9671e2545",
            "a7f4d3b8517d46ff8476f1611697d316",
            "ec6f495761284119b55924b9f43bcc09",
            "e7cf93b9f87d41eaac7345f9aa67e620",
            "e2bcfd0f873d4e8cadd66f81c4469510",
            "9c50f55c93ed4d55921cea344900a2c5",
            "36f15cd2689449c08c95f6688d984e73",
            "ae6752d731df4f03a95e8212293c057e",
            "4bfe5c5c750444a68488e9037364dde0",
            "b967065609d748c2a8a9b091976894e7",
            "6805c68fc8914e0cbb232887e7ca308b",
            "642f02d5da264c2f9f82bd4cb76af39f",
            "5f606c8483404d29a5edd5dc618aec7d",
            "9c7029ed67d3428aae5cc8156a15929c",
            "9de15b2df00d4b71ae69ea2f9bac4dc9",
            "7288e6b1af2140289b28c4f9d6349979",
            "edb71828bd9849a68864aeb2f2f3873a",
            "61ec134a9c564c95bf5f3d8b6a2830a1",
            "c3a8b37de11541bda47e106b50d1b3a0",
            "267a01fd74e245d0949ad6598b25ae2c",
            "d23d900b470747bab9d08d6a1dd3890c",
            "6536e49745244244a8bd75e42152fa64",
            "5e9698e5e2f449bd8addba0230e25fc7",
            "b27623fa697f478b8d021503b09a2c31",
            "4021f3f3a5bb4029822dddb2c2c84906",
            "db7fb4d31cef4c0ca937bb64326280a8",
            "3debfd2109304b279f51a50480ad6070",
            "51f49b094cfb4779abe55ae35da30bc2",
            "4745209ce47041c0aef675021e8696ef",
            "6834ed407a0f4b13aadfcccd21e54605",
            "ebf7c3770ed540bf946e3d78676392d8",
            "1475f9e7b527426f8d36ac811812507d",
            "ea4bac8856b64e3d9eb8a6b0826336b4",
            "394067bb8a894960afd5b950685eb05e",
            "0dd239f823024c0ab0f1befd178ad5be",
            "3fa315ef86a3472bb864e04241f626d8",
            "e49660a0861a4344afb8fdab0663af0c",
            "bab47a1e6ddd4fbdb9039254b6c61e4c",
            "43a7203816e04c8980c3ffeaf59ffd7d",
            "8df09a844e9b4c148feb70c4d9e34652",
            "ffd8d7fd10054b7c9fe7f9a5bba7b66c",
            "726383bc5dd641acaadcfd479fc7fb47",
            "5d9efe3d1bf642e9adf14b4c59b5b97e",
            "293eaa00f70947868795f54dbe46bb4f",
            "bb891d01780a48f086813abea06c2cf2",
            "fdcdbf91155f41b889da5be441160194",
            "a6b89207c43f4434bd4287e47fb414b4",
            "4dab16df89594cce975f673185c3a943",
            "0fc3ebc7c02844949ec8ffefba44e1e6",
            "6babe8ae7b034961aaa92ff7d8cf77cb",
            "075118df78494b2b9c9668a43ce2a064",
            "33c5299262e94dae8e94786f908d1c17",
            "dbe4b1048c954bcba59efb4485fed882",
            "35597e5742bb4c68ae2953dba80056e9",
            "99775376e96b40dc8c226b6e0abc2eb8",
            "6f8c4175d3dd4bfa81fa238c5f2eb052",
            "746ff1fe804940c4ac5ce43ff007ee93",
            "2b69b905cf4d44d99360e1fd536ee6ec",
            "d2411810c7cc417bb90724c57b38527b",
            "6d1f1e7e13bc41f9bc65656e9f9f1a6c",
            "d70bf239c8314497a0ee660dae264160",
            "9bd2b94231a24687ab62ceca0e57fbac",
            "87b2d0111df7489aa5ad728d0dfd7fa2",
            "b42aba8315154a84a786935efe9119b4",
            "6399ea015e9f4d3592f7d67177951edb",
            "fd06aea76c524474ac9681134a9cb2cf",
            "7199faad14e24db286e9247563f1712c",
            "7c3acf1b391a4f14b0f8bbbeba339c69",
            "5c7f7e5b5f2d42fa93edc3f71b6395a7",
            "3b4a86386d654ee2b8dd1287335446eb",
            "c2fb26db92d04cc9a556d51b809aa14f",
            "fc5baac5e28a4861a154e4e87fea0d79",
            "6cf0fc200b1948b0be824f937b2c3d00",
            "216e5a9270dd49fbbde1d5a454831085",
            "29203bb68f5546078bc96bd667b2f8e7",
            "abd35d5015184695a5d27538bc663f72",
            "3ce986c5981248b5b3736765e8eb5698",
            "8bd1ee32d601411fbeac8425524d186e",
            "e53cc909deff4f649ad8bef46555ef64",
            "97abdc57971d412d8f78272db7dc92d8",
            "58a2b88ddd0347e9865be3fd4942ec7e",
            "5f68b27b5b19437f91c167309082132d",
            "4827953d2b304c068d3a1350c35cde5a",
            "65df7c8128e54eb487f2eb09f549fa0c",
            "e6d26018b5e94a518fc8f4ca52d41339",
            "6ccb41132e364d94ac908b6298061946"
          ]
        },
        "id": "41HAIN24Obfr",
        "outputId": "8e145880-334d-4fcf-b341-d2cc5f37c599"
      },
      "execution_count": null,
      "outputs": [
        {
          "output_type": "display_data",
          "data": {
            "text/plain": [
              "<IPython.core.display.HTML object>"
            ],
            "text/html": [
              "\n",
              "            <style>\n",
              "                .geemap-dark {\n",
              "                    --jp-widgets-color: white;\n",
              "                    --jp-widgets-label-color: white;\n",
              "                    --jp-ui-font-color1: white;\n",
              "                    --jp-layout-color2: #454545;\n",
              "                    background-color: #383838;\n",
              "                }\n",
              "\n",
              "                .geemap-dark .jupyter-button {\n",
              "                    --jp-layout-color3: #383838;\n",
              "                }\n",
              "\n",
              "                .geemap-colab {\n",
              "                    background-color: var(--colab-primary-surface-color, white);\n",
              "                }\n",
              "\n",
              "                .geemap-colab .jupyter-button {\n",
              "                    --jp-layout-color3: var(--colab-primary-surface-color, white);\n",
              "                }\n",
              "            </style>\n",
              "            "
            ]
          },
          "metadata": {}
        },
        {
          "output_type": "display_data",
          "data": {
            "text/plain": [
              "Map(center=[35.86566467022178, -120.20805976638766], controls=(WidgetControl(options=['position', 'transparent…"
            ],
            "application/vnd.jupyter.widget-view+json": {
              "version_major": 2,
              "version_minor": 0,
              "model_id": "896964310eef4d55b796803415eacd4f"
            }
          },
          "metadata": {
            "application/vnd.jupyter.widget-view+json": {
              "colab": {
                "custom_widget_manager": {
                  "url": "https://ssl.gstatic.com/colaboratory-static/widgets/colab-cdn-widget-manager/2b70e893a8ba7c0f/manager.min.js"
                }
              }
            }
          }
        }
      ]
    },
    {
      "cell_type": "code",
      "execution_count": null,
      "metadata": {
        "id": "cBZa-J43jAL2"
      },
      "outputs": [],
      "source": [
        "# Potential distribution map\n",
        "images2 = ee.List.sequence(1, ee.Number(numiter).multiply(2).subtract(1), 4).map(\n",
        "    lambda x: results.get(x)\n",
        ")\n",
        "distribution_map = ee.ImageCollection.fromImages(images2).median()\n",
        "\n",
        "Map = geemap.Map(\n",
        "    layout={\"height\": \"800px\", \"width\": \"1200px\"}\n",
        ")\n",
        "\n",
        "vis_params = {\"min\": 0, \"max\": 1, \"palette\": [\"white\", \"green\"]}\n",
        "Map.addLayer(distribution_map, vis_params, \"Potential distribution\")\n",
        "Map.addLayer(data, {\"color\": \"red\"}, \"Presence\")\n",
        "Map.add_colorbar(\n",
        "    vis_params,\n",
        "    label=\"Potential distribution\",\n",
        "    discrete=True,\n",
        "    orientation=\"horizontal\",\n",
        "    layer_name=\"Potential distribution\",\n",
        ")\n",
        "Map.centerObject(data.geometry(), 6)\n",
        "Map"
      ]
    },
    {
      "cell_type": "markdown",
      "metadata": {
        "id": "B5cjWyzAmd4Z"
      },
      "source": [
        "### Variable importance and accuracy assessment\n",
        "\n",
        "Random Forest (`ee.Classifier.smileRandomForest`) is one of the ensemble learning methods, which operates by constructing multiple decision trees to make predictions. Each decision tree independently learns from different subsets of the data, and their results are aggregated to enable more accurate and stable predictions.\n",
        "\n",
        "Variable importance is a measure that evaluates the impact of each variable on the predictions within the Random Forest model. We will use the previously defined `importances_list` to calculate and print the average variable importance."
      ]
    },
    {
      "cell_type": "code",
      "execution_count": null,
      "metadata": {
        "id": "uoJ0mBeRme-E",
        "colab": {
          "base_uri": "https://localhost:8080/",
          "height": 17
        },
        "outputId": "cc21169d-e2c9-41d5-b255-eccd8034399d"
      },
      "outputs": [
        {
          "output_type": "display_data",
          "data": {
            "text/plain": [
              "<IPython.core.display.HTML object>"
            ],
            "text/html": [
              "\n",
              "            <style>\n",
              "                .geemap-dark {\n",
              "                    --jp-widgets-color: white;\n",
              "                    --jp-widgets-label-color: white;\n",
              "                    --jp-ui-font-color1: white;\n",
              "                    --jp-layout-color2: #454545;\n",
              "                    background-color: #383838;\n",
              "                }\n",
              "\n",
              "                .geemap-dark .jupyter-button {\n",
              "                    --jp-layout-color3: #383838;\n",
              "                }\n",
              "\n",
              "                .geemap-colab {\n",
              "                    background-color: var(--colab-primary-surface-color, white);\n",
              "                }\n",
              "\n",
              "                .geemap-colab .jupyter-button {\n",
              "                    --jp-layout-color3: var(--colab-primary-surface-color, white);\n",
              "                }\n",
              "            </style>\n",
              "            "
            ]
          },
          "metadata": {}
        }
      ],
      "source": [
        "def plot_variable_importance(importances_list):\n",
        "    # Extract each variable importance value into a list\n",
        "    variables = [item[0] for item in importances_list]\n",
        "    importances = [item[1] for item in importances_list]\n",
        "\n",
        "    # Calculate the average importance for each variable\n",
        "    average_importances = {}\n",
        "    for variable in set(variables):\n",
        "        indices = [i for i, var in enumerate(variables) if var == variable]\n",
        "        average_importance = np.mean([importances[i] for i in indices])\n",
        "        average_importances[variable] = average_importance\n",
        "\n",
        "    # Sort the importances in descending order of importance\n",
        "    sorted_importances = sorted(average_importances.items(),\n",
        "                                key=lambda x: x[1], reverse=False)\n",
        "    variables = [item[0] for item in sorted_importances]\n",
        "    avg_importances = [item[1] for item in sorted_importances]\n",
        "\n",
        "    # Adjust the graph size\n",
        "    plt.figure(figsize=(8, 4))\n",
        "\n",
        "    # Plot the average importance as a horizontal bar chart\n",
        "    plt.barh(variables, avg_importances)\n",
        "    plt.xlabel('Importance')\n",
        "    plt.ylabel('Variables')\n",
        "    plt.title('Average Variable Importance')\n",
        "\n",
        "    # Display values above the bars\n",
        "    for i, v in enumerate(avg_importances):\n",
        "        plt.text(v + 0.02, i, f\"{v:.2f}\", va='center')\n",
        "\n",
        "    # Adjust the x-axis range\n",
        "    plt.xlim(0, max(avg_importances) + 5)  # Adjust to the desired range\n",
        "\n",
        "    plt.tight_layout()\n",
        "    plt.savefig('variable_importance.png')\n",
        "    plt.show()"
      ]
    },
    {
      "cell_type": "code",
      "execution_count": null,
      "metadata": {
        "id": "2nhhAUydurwm",
        "colab": {
          "base_uri": "https://localhost:8080/",
          "height": 407
        },
        "outputId": "2e65dde8-ba9e-4784-dca9-ab0365c55ad2"
      },
      "outputs": [
        {
          "output_type": "display_data",
          "data": {
            "text/plain": [
              "<IPython.core.display.HTML object>"
            ],
            "text/html": [
              "\n",
              "            <style>\n",
              "                .geemap-dark {\n",
              "                    --jp-widgets-color: white;\n",
              "                    --jp-widgets-label-color: white;\n",
              "                    --jp-ui-font-color1: white;\n",
              "                    --jp-layout-color2: #454545;\n",
              "                    background-color: #383838;\n",
              "                }\n",
              "\n",
              "                .geemap-dark .jupyter-button {\n",
              "                    --jp-layout-color3: #383838;\n",
              "                }\n",
              "\n",
              "                .geemap-colab {\n",
              "                    background-color: var(--colab-primary-surface-color, white);\n",
              "                }\n",
              "\n",
              "                .geemap-colab .jupyter-button {\n",
              "                    --jp-layout-color3: var(--colab-primary-surface-color, white);\n",
              "                }\n",
              "            </style>\n",
              "            "
            ]
          },
          "metadata": {}
        },
        {
          "output_type": "display_data",
          "data": {
            "text/plain": [
              "<Figure size 800x400 with 1 Axes>"
            ],
            "image/png": "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\n"
          },
          "metadata": {}
        }
      ],
      "source": [
        "plot_variable_importance(importances_list)"
      ]
    },
    {
      "cell_type": "markdown",
      "metadata": {
        "id": "m889_YCzwNhR"
      },
      "source": [
        "Using the Testing Datasets, we calculate AUC-ROC and AUC-PR for each run. Then, we compute the average AUC-ROC and AUC-PR over n iterations.\n",
        "\n",
        "**AUC-ROC** represents the area under the curve of the 'Sensitivity (Recall) vs. 1-Specificity' graph, illustrating the relationship between sensitivity and specificity as the threshold changes. Specificity is based on all observed non-occurrences. Therefore, AUC-ROC encompasses all quadrants of the confusion matrix.\n",
        "\n",
        "**AUC-PR** represents the area under the curve of the 'Precision vs. Recall (Sensitivity)' graph, showing the relationship between precision and recall as the threshold varies. Precision is based on all predicted occurrences. Hence, AUC-PR does not include the true negatives (TN).\n",
        "\n",
        "> Note: It's important to ensure that each run has a sufficient number of points for model validation. The final number of points may vary due to the random partitioning of spatial blocks, so it's crucial to verify if there are enough presence and pseudo-absence points for model validation. In the case of endangered or rare species, there might be a shortage of occurrence data, leading to an insufficient test dataset. In such cases, alternatives may include additional data collection based on expert knowledge and experience or utilizing relevant alternative data sources."
      ]
    },
    {
      "cell_type": "code",
      "execution_count": null,
      "metadata": {
        "id": "sdyvrG7swBUp",
        "colab": {
          "base_uri": "https://localhost:8080/",
          "height": 17
        },
        "outputId": "6afb8ac5-2cf7-4903-b6cf-c5494571c5d5"
      },
      "outputs": [
        {
          "output_type": "display_data",
          "data": {
            "text/plain": [
              "<IPython.core.display.HTML object>"
            ],
            "text/html": [
              "\n",
              "            <style>\n",
              "                .geemap-dark {\n",
              "                    --jp-widgets-color: white;\n",
              "                    --jp-widgets-label-color: white;\n",
              "                    --jp-ui-font-color1: white;\n",
              "                    --jp-layout-color2: #454545;\n",
              "                    background-color: #383838;\n",
              "                }\n",
              "\n",
              "                .geemap-dark .jupyter-button {\n",
              "                    --jp-layout-color3: #383838;\n",
              "                }\n",
              "\n",
              "                .geemap-colab {\n",
              "                    background-color: var(--colab-primary-surface-color, white);\n",
              "                }\n",
              "\n",
              "                .geemap-colab .jupyter-button {\n",
              "                    --jp-layout-color3: var(--colab-primary-surface-color, white);\n",
              "                }\n",
              "            </style>\n",
              "            "
            ]
          },
          "metadata": {}
        }
      ],
      "source": [
        "def print_pres_abs_sizes(TestingDatasets, numiter):\n",
        "    # Check and print the sizes of presence and pseudo-absence coordinates\n",
        "    def get_pres_abs_size(x):\n",
        "        fc = ee.FeatureCollection(TestingDatasets.get(x))\n",
        "        presence_size = fc.filter(ee.Filter.eq(\"PresAbs\", 1)).size()\n",
        "        pseudo_absence_size = fc.filter(ee.Filter.eq(\"PresAbs\", 0)).size()\n",
        "        return ee.List([presence_size, pseudo_absence_size])\n",
        "\n",
        "    sizes_info = (\n",
        "        ee.List.sequence(0, ee.Number(numiter).subtract(1), 1)\n",
        "        .map(get_pres_abs_size)\n",
        "        .getInfo()\n",
        "    )\n",
        "\n",
        "    for i, sizes in enumerate(sizes_info):\n",
        "        presence_size = sizes[0]\n",
        "        pseudo_absence_size = sizes[1]\n",
        "        print(\n",
        "            f\"Iteration {i + 1}: Presence Size = {presence_size}, Pseudo-absence Size = {pseudo_absence_size}\"\n",
        "        )"
      ]
    },
    {
      "cell_type": "code",
      "execution_count": null,
      "metadata": {
        "id": "MccWAsdTxjUS",
        "colab": {
          "base_uri": "https://localhost:8080/",
          "height": 191
        },
        "outputId": "166ca388-9854-4612-e569-2205001fd44b"
      },
      "outputs": [
        {
          "output_type": "display_data",
          "data": {
            "text/plain": [
              "<IPython.core.display.HTML object>"
            ],
            "text/html": [
              "\n",
              "            <style>\n",
              "                .geemap-dark {\n",
              "                    --jp-widgets-color: white;\n",
              "                    --jp-widgets-label-color: white;\n",
              "                    --jp-ui-font-color1: white;\n",
              "                    --jp-layout-color2: #454545;\n",
              "                    background-color: #383838;\n",
              "                }\n",
              "\n",
              "                .geemap-dark .jupyter-button {\n",
              "                    --jp-layout-color3: #383838;\n",
              "                }\n",
              "\n",
              "                .geemap-colab {\n",
              "                    background-color: var(--colab-primary-surface-color, white);\n",
              "                }\n",
              "\n",
              "                .geemap-colab .jupyter-button {\n",
              "                    --jp-layout-color3: var(--colab-primary-surface-color, white);\n",
              "                }\n",
              "            </style>\n",
              "            "
            ]
          },
          "metadata": {}
        },
        {
          "output_type": "stream",
          "name": "stdout",
          "text": [
            "Iteration 1: Presence Size = 14, Pseudo-absence Size = 3\n",
            "Iteration 2: Presence Size = 31, Pseudo-absence Size = 2\n",
            "Iteration 3: Presence Size = 46, Pseudo-absence Size = 4\n",
            "Iteration 4: Presence Size = 36, Pseudo-absence Size = 1\n",
            "Iteration 5: Presence Size = 287, Pseudo-absence Size = 10\n",
            "Iteration 6: Presence Size = 349, Pseudo-absence Size = 14\n",
            "Iteration 7: Presence Size = 37, Pseudo-absence Size = 6\n",
            "Iteration 8: Presence Size = 286, Pseudo-absence Size = 1\n",
            "Iteration 9: Presence Size = 71, Pseudo-absence Size = 10\n",
            "Iteration 10: Presence Size = 17, Pseudo-absence Size = 3\n"
          ]
        }
      ],
      "source": [
        "# Extracting the Testing Datasets\n",
        "testing_datasets = ee.List.sequence(\n",
        "    3, ee.Number(numiter).multiply(4).subtract(1), 4\n",
        ").map(lambda x: results.get(x))\n",
        "\n",
        "print_pres_abs_sizes(testing_datasets, numiter)"
      ]
    },
    {
      "cell_type": "code",
      "execution_count": null,
      "metadata": {
        "id": "GvEH7C9SzI0M",
        "colab": {
          "base_uri": "https://localhost:8080/",
          "height": 17
        },
        "outputId": "b2751b23-ea4e-47d5-9bef-3eac3b041e66"
      },
      "outputs": [
        {
          "output_type": "display_data",
          "data": {
            "text/plain": [
              "<IPython.core.display.HTML object>"
            ],
            "text/html": [
              "\n",
              "            <style>\n",
              "                .geemap-dark {\n",
              "                    --jp-widgets-color: white;\n",
              "                    --jp-widgets-label-color: white;\n",
              "                    --jp-ui-font-color1: white;\n",
              "                    --jp-layout-color2: #454545;\n",
              "                    background-color: #383838;\n",
              "                }\n",
              "\n",
              "                .geemap-dark .jupyter-button {\n",
              "                    --jp-layout-color3: #383838;\n",
              "                }\n",
              "\n",
              "                .geemap-colab {\n",
              "                    background-color: var(--colab-primary-surface-color, white);\n",
              "                }\n",
              "\n",
              "                .geemap-colab .jupyter-button {\n",
              "                    --jp-layout-color3: var(--colab-primary-surface-color, white);\n",
              "                }\n",
              "            </style>\n",
              "            "
            ]
          },
          "metadata": {}
        }
      ],
      "source": [
        "def get_acc(hsm, t_data, grain_size):\n",
        "    pr_prob_vals = hsm.sampleRegions(\n",
        "        collection=t_data, properties=[\"PresAbs\"], scale=grain_size\n",
        "    )\n",
        "    seq = ee.List.sequence(start=0, end=1, count=25)  # Divide 0 to 1 into 25 intervals\n",
        "\n",
        "    def calculate_metrics(cutoff):\n",
        "        # Each element of the seq list is passed as cutoff(threshold value)\n",
        "\n",
        "        # Observed present = TP + FN\n",
        "        pres = pr_prob_vals.filterMetadata(\"PresAbs\", \"equals\", 1)\n",
        "\n",
        "        # TP (True Positive)\n",
        "        tp = ee.Number(\n",
        "            pres.filterMetadata(\"classification\", \"greater_than\", cutoff).size()\n",
        "        )\n",
        "\n",
        "        # TPR (True Positive Rate) = Recall = Sensitivity = TP / (TP + FN) = TP / Observed present\n",
        "        tpr = tp.divide(pres.size())\n",
        "\n",
        "        # Observed absent = FP + TN\n",
        "        abs = pr_prob_vals.filterMetadata(\"PresAbs\", \"equals\", 0)\n",
        "\n",
        "        # FN (False Negative)\n",
        "        fn = ee.Number(\n",
        "            pres.filterMetadata(\"classification\", \"less_than\", cutoff).size()\n",
        "        )\n",
        "\n",
        "        # TNR (True Negative Rate) = Specificity = TN  / (FP + TN) = TN / Observed absent\n",
        "        tn = ee.Number(abs.filterMetadata(\"classification\", \"less_than\", cutoff).size())\n",
        "        tnr = tn.divide(abs.size())\n",
        "\n",
        "        # FP (False Positive)\n",
        "        fp = ee.Number(\n",
        "            abs.filterMetadata(\"classification\", \"greater_than\", cutoff).size()\n",
        "        )\n",
        "\n",
        "        # FPR (False Positive Rate) = FP / (FP + TN) = FP / Observed absent\n",
        "        fpr = fp.divide(abs.size())\n",
        "\n",
        "        # Precision = TP / (TP + FP) = TP / Predicted present\n",
        "        precision = tp.divide(tp.add(fp))\n",
        "\n",
        "        # SUMSS = SUM of Sensitivity and Specificity\n",
        "        sumss = tpr.add(tnr)\n",
        "\n",
        "        return ee.Feature(\n",
        "            None,\n",
        "            {\n",
        "                \"cutoff\": cutoff,\n",
        "                \"TP\": tp,\n",
        "                \"TN\": tn,\n",
        "                \"FP\": fp,\n",
        "                \"FN\": fn,\n",
        "                \"TPR\": tpr,\n",
        "                \"TNR\": tnr,\n",
        "                \"FPR\": fpr,\n",
        "                \"Precision\": precision,\n",
        "                \"SUMSS\": sumss,\n",
        "            },\n",
        "        )\n",
        "\n",
        "    return ee.FeatureCollection(seq.map(calculate_metrics))"
      ]
    },
    {
      "cell_type": "code",
      "source": [
        "def calculate_and_print_auc_metrics(images, testing_datasets, grain_size, numiter):\n",
        "    # Calculate AUC-ROC and AUC-PR\n",
        "    def calculate_auc_metrics(x):\n",
        "        hsm = ee.Image(images.get(x))\n",
        "        t_data = ee.FeatureCollection(testing_datasets.get(x))\n",
        "        acc = get_acc(hsm, t_data, grain_size)\n",
        "\n",
        "        # Calculate AUC-ROC\n",
        "        x = ee.Array(acc.aggregate_array(\"FPR\"))\n",
        "        y = ee.Array(acc.aggregate_array(\"TPR\"))\n",
        "        x1 = x.slice(0, 1).subtract(x.slice(0, 0, -1))\n",
        "        y1 = y.slice(0, 1).add(y.slice(0, 0, -1))\n",
        "        auc_roc = x1.multiply(y1).multiply(0.5).reduce(\"sum\", [0]).abs().toList().get(0)\n",
        "\n",
        "        # Calculate AUC-PR\n",
        "        x = ee.Array(acc.aggregate_array(\"TPR\"))\n",
        "        y = ee.Array(acc.aggregate_array(\"Precision\"))\n",
        "        x1 = x.slice(0, 1).subtract(x.slice(0, 0, -1))\n",
        "        y1 = y.slice(0, 1).add(y.slice(0, 0, -1))\n",
        "        auc_pr = x1.multiply(y1).multiply(0.5).reduce(\"sum\", [0]).abs().toList().get(0)\n",
        "\n",
        "        # Return a Feature instead of a tuple\n",
        "        return ee.Feature(None, {'AUC-ROC': auc_roc, 'AUC-PR': auc_pr})\n",
        "\n",
        "    # Map the function and export to a FeatureCollection\n",
        "    auc_fc = ee.FeatureCollection(ee.List.sequence(0, ee.Number(numiter).subtract(1), 1)\n",
        "                                     .map(calculate_auc_metrics))\n",
        "\n",
        "    # Export the FeatureCollection to a CSV file in Google Drive\n",
        "    task = ee.batch.Export.table.toDrive(\n",
        "        collection=auc_fc,\n",
        "        description='AUC_Metrics',\n",
        "        folder='.',  # Replace with your desired folder\n",
        "        fileFormat='CSV'\n",
        "    )\n",
        "    task.start()\n",
        "    print(f'Exporting AUC metrics to Google Drive. Task ID: {task.id}')"
      ],
      "metadata": {
        "colab": {
          "base_uri": "https://localhost:8080/",
          "height": 17
        },
        "id": "GR0aWzAae-XV",
        "outputId": "a15a2f03-59cb-4c15-a223-f2eac23f24db"
      },
      "execution_count": null,
      "outputs": [
        {
          "output_type": "display_data",
          "data": {
            "text/plain": [
              "<IPython.core.display.HTML object>"
            ],
            "text/html": [
              "\n",
              "            <style>\n",
              "                .geemap-dark {\n",
              "                    --jp-widgets-color: white;\n",
              "                    --jp-widgets-label-color: white;\n",
              "                    --jp-ui-font-color1: white;\n",
              "                    --jp-layout-color2: #454545;\n",
              "                    background-color: #383838;\n",
              "                }\n",
              "\n",
              "                .geemap-dark .jupyter-button {\n",
              "                    --jp-layout-color3: #383838;\n",
              "                }\n",
              "\n",
              "                .geemap-colab {\n",
              "                    background-color: var(--colab-primary-surface-color, white);\n",
              "                }\n",
              "\n",
              "                .geemap-colab .jupyter-button {\n",
              "                    --jp-layout-color3: var(--colab-primary-surface-color, white);\n",
              "                }\n",
              "            </style>\n",
              "            "
            ]
          },
          "metadata": {}
        }
      ]
    },
    {
      "cell_type": "code",
      "execution_count": null,
      "metadata": {
        "id": "O6JACvJbzrn7",
        "colab": {
          "base_uri": "https://localhost:8080/",
          "height": 17
        },
        "outputId": "964ef22e-2a0a-4873-db3f-bde674cf3768"
      },
      "outputs": [
        {
          "output_type": "display_data",
          "data": {
            "text/plain": [
              "<IPython.core.display.HTML object>"
            ],
            "text/html": [
              "\n",
              "            <style>\n",
              "                .geemap-dark {\n",
              "                    --jp-widgets-color: white;\n",
              "                    --jp-widgets-label-color: white;\n",
              "                    --jp-ui-font-color1: white;\n",
              "                    --jp-layout-color2: #454545;\n",
              "                    background-color: #383838;\n",
              "                }\n",
              "\n",
              "                .geemap-dark .jupyter-button {\n",
              "                    --jp-layout-color3: #383838;\n",
              "                }\n",
              "\n",
              "                .geemap-colab {\n",
              "                    background-color: var(--colab-primary-surface-color, white);\n",
              "                }\n",
              "\n",
              "                .geemap-colab .jupyter-button {\n",
              "                    --jp-layout-color3: var(--colab-primary-surface-color, white);\n",
              "                }\n",
              "            </style>\n",
              "            "
            ]
          },
          "metadata": {}
        }
      ],
      "source": [
        "def calculate_and_print_auc_metrics(images, testing_datasets, grain_size, numiter):\n",
        "    # Calculate AUC-ROC and AUC-PR\n",
        "    def calculate_auc_metrics(x):\n",
        "        hsm = ee.Image(images.get(x))\n",
        "        t_data = ee.FeatureCollection(testing_datasets.get(x))\n",
        "        acc = get_acc(hsm, t_data, grain_size)\n",
        "\n",
        "        # Calculate AUC-ROC\n",
        "        x = ee.Array(acc.aggregate_array(\"FPR\"))\n",
        "        y = ee.Array(acc.aggregate_array(\"TPR\"))\n",
        "        x1 = x.slice(0, 1).subtract(x.slice(0, 0, -1))\n",
        "        y1 = y.slice(0, 1).add(y.slice(0, 0, -1))\n",
        "        auc_roc = x1.multiply(y1).multiply(0.5).reduce(\"sum\", [0]).abs().toList().get(0)\n",
        "\n",
        "        # Calculate AUC-PR\n",
        "        x = ee.Array(acc.aggregate_array(\"TPR\"))\n",
        "        y = ee.Array(acc.aggregate_array(\"Precision\"))\n",
        "        x1 = x.slice(0, 1).subtract(x.slice(0, 0, -1))\n",
        "        y1 = y.slice(0, 1).add(y.slice(0, 0, -1))\n",
        "        auc_pr = x1.multiply(y1).multiply(0.5).reduce(\"sum\", [0]).abs().toList().get(0)\n",
        "\n",
        "        return (auc_roc, auc_pr)\n",
        "\n",
        "    auc_metrics = (\n",
        "        ee.List.sequence(0, ee.Number(numiter).subtract(1), 1)\n",
        "        .map(calculate_auc_metrics)\n",
        "        .getInfo()\n",
        "    )\n",
        "\n",
        "    # Print AUC-ROC and AUC-PR for each iteration\n",
        "    df = pd.DataFrame(auc_metrics, columns=[\"AUC-ROC\", \"AUC-PR\"])\n",
        "    df.index = [f\"Iteration {i + 1}\" for i in range(len(df))]\n",
        "    df.to_csv(\"auc_metrics.csv\", index_label=\"Iteration\")\n",
        "    print(df)\n",
        "\n",
        "    # Calculate mean and standard deviation of AUC-ROC and AUC-PR\n",
        "    mean_auc_roc, std_auc_roc = df[\"AUC-ROC\"].mean(), df[\"AUC-ROC\"].std()\n",
        "    mean_auc_pr, std_auc_pr = df[\"AUC-PR\"].mean(), df[\"AUC-PR\"].std()\n",
        "    print(f\"Mean AUC-ROC = {mean_auc_roc:.4f} ± {std_auc_roc:.4f}\")\n",
        "    print(f\"Mean AUC-PR = {mean_auc_pr:.4f} ± {std_auc_pr:.4f}\")"
      ]
    },
    {
      "cell_type": "code",
      "execution_count": null,
      "metadata": {
        "id": "WVM4DTduz41j"
      },
      "outputs": [],
      "source": [
        "%%time\n",
        "\n",
        "# Calculate AUC-ROC and AUC-PR\n",
        "calculate_and_print_auc_metrics(images, testing_datasets, grain_size, numiter)"
      ]
    },
    {
      "cell_type": "code",
      "source": [
        "# prompt: Create a chart of AUC-ROC and AUC-PR on the same chart\n",
        "\n",
        "import matplotlib.pyplot as plt\n",
        "import pandas as pd\n",
        "\n",
        "# Load the AUC metrics from the CSV file\n",
        "df = pd.read_csv(\"auc_metrics.csv\")\n",
        "\n",
        "# Create the plot\n",
        "plt.figure(figsize=(10, 6))\n",
        "plt.plot(df[\"AUC-ROC\"], label=\"AUC-ROC\", marker='o')\n",
        "plt.plot(df[\"AUC-PR\"], label=\"AUC-PR\", marker='x')\n",
        "\n",
        "# Customize the plot\n",
        "plt.xlabel(\"Iteration\")\n",
        "plt.ylabel(\"AUC Value\")\n",
        "plt.title(\"AUC-ROC and AUC-PR over Iterations\")\n",
        "plt.legend()\n",
        "plt.grid(True)\n",
        "\n",
        "# Display the plot\n",
        "plt.show()"
      ],
      "metadata": {
        "colab": {
          "base_uri": "https://localhost:8080/",
          "height": 564
        },
        "id": "ZaFA6DZLRA0J",
        "outputId": "a279c879-e655-4b52-c786-b7c5fce294eb"
      },
      "execution_count": null,
      "outputs": [
        {
          "output_type": "display_data",
          "data": {
            "text/plain": [
              "<IPython.core.display.HTML object>"
            ],
            "text/html": [
              "\n",
              "            <style>\n",
              "                .geemap-dark {\n",
              "                    --jp-widgets-color: white;\n",
              "                    --jp-widgets-label-color: white;\n",
              "                    --jp-ui-font-color1: white;\n",
              "                    --jp-layout-color2: #454545;\n",
              "                    background-color: #383838;\n",
              "                }\n",
              "\n",
              "                .geemap-dark .jupyter-button {\n",
              "                    --jp-layout-color3: #383838;\n",
              "                }\n",
              "\n",
              "                .geemap-colab {\n",
              "                    background-color: var(--colab-primary-surface-color, white);\n",
              "                }\n",
              "\n",
              "                .geemap-colab .jupyter-button {\n",
              "                    --jp-layout-color3: var(--colab-primary-surface-color, white);\n",
              "                }\n",
              "            </style>\n",
              "            "
            ]
          },
          "metadata": {}
        },
        {
          "output_type": "display_data",
          "data": {
            "text/plain": [
              "<Figure size 1000x600 with 1 Axes>"
            ],
            "image/png": "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\n"
          },
          "metadata": {}
        }
      ]
    },
    {
      "cell_type": "code",
      "source": [],
      "metadata": {
        "id": "8NmrEuUM23gx"
      },
      "execution_count": null,
      "outputs": []
    }
  ],
  "metadata": {
    "colab": {
      "provenance": [],
      "include_colab_link": true
    },
    "kernelspec": {
      "display_name": "Python 3 (ipykernel)",
      "language": "python",
      "name": "python3"
    },
    "language_info": {
      "codemirror_mode": {
        "name": "ipython",
        "version": 3
      },
      "file_extension": ".py",
      "mimetype": "text/x-python",
      "name": "python",
      "nbconvert_exporter": "python",
      "pygments_lexer": "ipython3",
      "version": "3.12.1"
    },
    "nbformat": 4,
    "nbformat_minor": 0
}